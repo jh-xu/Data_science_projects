{
 "cells": [
  {
   "cell_type": "markdown",
   "metadata": {
    "id": "uLjPUgZ67ghr"
   },
   "source": [
    "# Sarcasm Detector"
   ]
  },
  {
   "cell_type": "markdown",
   "metadata": {},
   "source": [
    "Sarcasm Detector — Headline-level Fake News Classifier\n",
    "\n",
    "This notebook demonstrates an end-to-end approach for detecting sarcastic or misleading news headlines using a public headlines dataset. The goal is to build a robust baseline classifier and compare several approaches with increasing modeling complexity: classical TF‑IDF features with Logistic Regression, FastText embeddings averaged into document vectors, a simple BiGRU network, and a Transformer (BERT) fine-tuning pipeline."
   ]
  },
  {
   "cell_type": "code",
   "execution_count": null,
   "metadata": {},
   "outputs": [],
   "source": [
    "from IPython.display import display\n",
    "import numpy as np\n",
    "import pandas as pd\n",
    "\n",
    "from sklearn.model_selection import train_test_split\n",
    "from sklearn.feature_extraction.text import CountVectorizer, TfidfVectorizer\n",
    "\n",
    "from sklearn.linear_model import LogisticRegression\n",
    "from sklearn.metrics import confusion_matrix, classification_report\n",
    "\n",
    "import matplotlib.pyplot as plt\n",
    "import seaborn as sns\n",
    "sns.set(style=\"whitegrid\")"
   ]
  },
  {
   "cell_type": "markdown",
   "metadata": {},
   "source": [
    "# Load and clean"
   ]
  },
  {
   "cell_type": "code",
   "execution_count": 2,
   "metadata": {
    "id": "OZM68bF-Wdw6"
   },
   "outputs": [
    {
     "data": {
      "application/vnd.microsoft.datawrangler.viewer.v0+json": {
       "columns": [
        {
         "name": "index",
         "rawType": "int64",
         "type": "integer"
        },
        {
         "name": "is_sarcastic",
         "rawType": "int64",
         "type": "integer"
        },
        {
         "name": "headline",
         "rawType": "object",
         "type": "string"
        },
        {
         "name": "article_link",
         "rawType": "object",
         "type": "string"
        }
       ],
       "ref": "e4eaa41d-c6df-4bf1-b99b-e6a2e52bea50",
       "rows": [
        [
         "0",
         "1",
         "thirtysomething scientists unveil doomsday clock of hair loss",
         "https://www.theonion.com/thirtysomething-scientists-unveil-doomsday-clock-of-hai-1819586205"
        ],
        [
         "1",
         "0",
         "dem rep. totally nails why congress is falling short on gender, racial equality",
         "https://www.huffingtonpost.com/entry/donna-edwards-inequality_us_57455f7fe4b055bb1170b207"
        ],
        [
         "2",
         "0",
         "eat your veggies: 9 deliciously different recipes",
         "https://www.huffingtonpost.com/entry/eat-your-veggies-9-delici_b_8899742.html"
        ],
        [
         "3",
         "1",
         "inclement weather prevents liar from getting to work",
         "https://local.theonion.com/inclement-weather-prevents-liar-from-getting-to-work-1819576031"
        ],
        [
         "4",
         "1",
         "mother comes pretty close to using word 'streaming' correctly",
         "https://www.theonion.com/mother-comes-pretty-close-to-using-word-streaming-cor-1819575546"
        ]
       ],
       "shape": {
        "columns": 3,
        "rows": 5
       }
      },
      "text/html": [
       "<div>\n",
       "<style scoped>\n",
       "    .dataframe tbody tr th:only-of-type {\n",
       "        vertical-align: middle;\n",
       "    }\n",
       "\n",
       "    .dataframe tbody tr th {\n",
       "        vertical-align: top;\n",
       "    }\n",
       "\n",
       "    .dataframe thead th {\n",
       "        text-align: right;\n",
       "    }\n",
       "</style>\n",
       "<table border=\"1\" class=\"dataframe\">\n",
       "  <thead>\n",
       "    <tr style=\"text-align: right;\">\n",
       "      <th></th>\n",
       "      <th>is_sarcastic</th>\n",
       "      <th>headline</th>\n",
       "      <th>article_link</th>\n",
       "    </tr>\n",
       "  </thead>\n",
       "  <tbody>\n",
       "    <tr>\n",
       "      <th>0</th>\n",
       "      <td>1</td>\n",
       "      <td>thirtysomething scientists unveil doomsday clo...</td>\n",
       "      <td>https://www.theonion.com/thirtysomething-scien...</td>\n",
       "    </tr>\n",
       "    <tr>\n",
       "      <th>1</th>\n",
       "      <td>0</td>\n",
       "      <td>dem rep. totally nails why congress is falling...</td>\n",
       "      <td>https://www.huffingtonpost.com/entry/donna-edw...</td>\n",
       "    </tr>\n",
       "    <tr>\n",
       "      <th>2</th>\n",
       "      <td>0</td>\n",
       "      <td>eat your veggies: 9 deliciously different recipes</td>\n",
       "      <td>https://www.huffingtonpost.com/entry/eat-your-...</td>\n",
       "    </tr>\n",
       "    <tr>\n",
       "      <th>3</th>\n",
       "      <td>1</td>\n",
       "      <td>inclement weather prevents liar from getting t...</td>\n",
       "      <td>https://local.theonion.com/inclement-weather-p...</td>\n",
       "    </tr>\n",
       "    <tr>\n",
       "      <th>4</th>\n",
       "      <td>1</td>\n",
       "      <td>mother comes pretty close to using word 'strea...</td>\n",
       "      <td>https://www.theonion.com/mother-comes-pretty-c...</td>\n",
       "    </tr>\n",
       "  </tbody>\n",
       "</table>\n",
       "</div>"
      ],
      "text/plain": [
       "   is_sarcastic                                           headline  \\\n",
       "0             1  thirtysomething scientists unveil doomsday clo...   \n",
       "1             0  dem rep. totally nails why congress is falling...   \n",
       "2             0  eat your veggies: 9 deliciously different recipes   \n",
       "3             1  inclement weather prevents liar from getting t...   \n",
       "4             1  mother comes pretty close to using word 'strea...   \n",
       "\n",
       "                                        article_link  \n",
       "0  https://www.theonion.com/thirtysomething-scien...  \n",
       "1  https://www.huffingtonpost.com/entry/donna-edw...  \n",
       "2  https://www.huffingtonpost.com/entry/eat-your-...  \n",
       "3  https://local.theonion.com/inclement-weather-p...  \n",
       "4  https://www.theonion.com/mother-comes-pretty-c...  "
      ]
     },
     "execution_count": 2,
     "metadata": {},
     "output_type": "execute_result"
    }
   ],
   "source": [
    "# Load the dataset\n",
    "df = pd.read_json('./SarcasmDetect.json', lines=True)\n",
    "df.head()"
   ]
  },
  {
   "cell_type": "code",
   "execution_count": 3,
   "metadata": {},
   "outputs": [
    {
     "name": "stdout",
     "output_type": "stream",
     "text": [
      "<class 'pandas.core.frame.DataFrame'>\n",
      "RangeIndex: 28619 entries, 0 to 28618\n",
      "Data columns (total 3 columns):\n",
      " #   Column        Non-Null Count  Dtype \n",
      "---  ------        --------------  ----- \n",
      " 0   is_sarcastic  28619 non-null  int64 \n",
      " 1   headline      28619 non-null  object\n",
      " 2   article_link  28619 non-null  object\n",
      "dtypes: int64(1), object(2)\n",
      "memory usage: 670.9+ KB\n",
      "\n",
      "==============\n",
      "DataFrame shape:\n",
      "(28619, 3)\n"
     ]
    }
   ],
   "source": [
    "df.info()\n",
    "\n",
    "print('\\n==============\\nDataFrame shape:')\n",
    "print(df.shape)"
   ]
  },
  {
   "cell_type": "code",
   "execution_count": null,
   "metadata": {},
   "outputs": [
    {
     "data": {
      "application/vnd.microsoft.datawrangler.viewer.v0+json": {
       "columns": [
        {
         "name": "('is_sarcastic', 'headline', 'article_link')",
         "rawType": "object",
         "type": "unknown"
        },
        {
         "name": "count",
         "rawType": "int64",
         "type": "integer"
        }
       ],
       "ref": "9f24a166-a916-4972-a00c-fe2b56d0fa26",
       "rows": [
        [
         "(0, 'hillary clinton vs. herself', 'https://www.huffingtonpost.comhttp://nymag.com/daily/intelligencer/2016/05/hillary-clinton-candidacy.html')",
         "2"
        ],
        [
         "(1, 'nation not sure how many ex-trump staffers it can safely reabsorb', 'https://politics.theonion.com/nation-not-sure-how-many-ex-trump-staffers-it-can-safel-1823468346')",
         "2"
        ],
        [
         "(0, '\"eco-warrior\" vandana shiva, at $40,000 a speech, rejoins hawaii anti-gmo crusade, but truth is the victim', 'https://www.huffingtonpost.com/entry/ecowarrior-vandana-shiva-_b_6528032.html')",
         "1"
        ],
        [
         "(1, \"executive fascinated by electrician's lunch\", 'https://www.theonion.com/executive-fascinated-by-electricians-lunch-1819569149')",
         "1"
        ],
        [
         "(1, 'exhausted nation unsure it has stamina to continue gun control dialogue for fifth consecutive day', 'https://www.theonion.com/exhausted-nation-unsure-it-has-stamina-to-continue-gun-1819578978')",
         "1"
        ],
        [
         "(1, 'exhausted mueller trying to find trump organization russia documents amid thousands of harassment lawsuits', 'https://politics.theonion.com/exhausted-mueller-trying-to-find-trump-organization-rus-1823814584')",
         "1"
        ],
        [
         "(1, \"exhausted john kelly parks president in front of episode of 'tucker carlson' to get quick hour to himself\", 'https://politics.theonion.com/exhausted-john-kelly-parks-president-in-front-of-episod-1819580318')",
         "1"
        ],
        [
         "(1, 'exhausted florida resident returns home after weathering harrowing week with family out of state', 'https://local.theonion.com/exhausted-florida-resident-returns-home-after-weatherin-1819580315')",
         "1"
        ],
        [
         "(1, 'exhausted doctor to wake up early, finish surgery in morning', 'https://www.theonion.com/exhausted-doctor-to-wake-up-early-finish-surgery-in-mo-1819569358')",
         "1"
        ],
        [
         "(1, 'exercising woman really starting to feel the burn of lifelong injury developing', 'https://local.theonion.com/exercising-woman-really-starting-to-feel-the-burn-of-li-1825044413')",
         "1"
        ],
        [
         "(1, 'exercise briefly considered', 'https://local.theonion.com/exercise-briefly-considered-1819565351')",
         "1"
        ],
        [
         "(1, 'executive, legislative, judicial branches merge', 'https://politics.theonion.com/executive-legislative-judicial-branches-merge-1819564380')",
         "1"
        ],
        [
         "(1, \"executive reschedules wife's birthday for october\", 'https://www.theonion.com/executive-reschedules-wifes-birthday-for-october-1819568603')",
         "1"
        ],
        [
         "(1, 'executive on hot streak with 2 straight logical decisions', 'https://www.theonion.com/executive-on-hot-streak-with-2-straight-logical-decisio-1819577811')",
         "1"
        ],
        [
         "(1, 'executioner enters lethal injection room with bag from home depot', 'https://www.theonion.com/executioner-enters-lethal-injection-room-with-bag-from-1819576746')",
         "1"
        ],
        [
         "(1, 'exhausted olympians wake up early to repeat opening ceremony for american time zones', 'https://www.theonion.com/exhausted-olympians-wake-up-early-to-repeat-opening-cer-1822883032')",
         "1"
        ],
        [
         "(1, 'exclusive tsa pre-check allows passengers to fly without waiting for airplane', 'https://www.theonion.com/exclusive-tsa-pre-check-allows-passengers-to-fly-withou-1832429464')",
         "1"
        ],
        [
         "(1, \"exciting new app allows users to be pawns in 26-year-old ceo's little game\", 'https://www.theonion.com/exciting-new-app-allows-users-to-be-pawns-in-26-year-ol-1819579504')",
         "1"
        ],
        [
         "(1, 'excitement shifts to concern after coworker brings baked goods into office for fourth consecutive day', 'https://local.theonion.com/excitement-shifts-to-concern-after-coworker-brings-bake-1820079077')",
         "1"
        ],
        [
         "(1, \"excited white house staffer sends parents 'new york times' article quoting her as anonymous source\", 'https://politics.theonion.com/excited-white-house-staffer-sends-parents-new-york-tim-1819579721')",
         "1"
        ],
        [
         "(1, 'excited shopper decides to wear new butt plug out of store', 'https://local.theonion.com/excited-shopper-decides-to-wear-new-butt-plug-out-of-st-1830850007')",
         "1"
        ],
        [
         "(1, 'excited patient points out organ he wants from kidney tank in hospital lobby', 'https://www.theonion.com/excited-patient-points-out-organ-he-wants-from-kidney-t-1829621836')",
         "1"
        ],
        [
         "(1, 'excited nation already lining up outside irs offices in anticipation of tax day', 'https://www.theonion.com/excited-nation-already-lining-up-outside-irs-offices-in-1819577393')",
         "1"
        ],
        [
         "(1, \"excited mike pence assures john mccain he has his 'last rites' kit ready to go just in case\", 'https://politics.theonion.com/excited-mike-pence-assures-john-mccain-he-has-his-last-1825858131')",
         "1"
        ],
        [
         "(1, 'excited juror feels like murder trial being put on just for her', 'https://entertainment.theonion.com/excited-juror-feels-like-murder-trial-being-put-on-just-1819568762')",
         "1"
        ],
        [
         "(1, 'excited firefighters point out kid on tricycle', 'https://local.theonion.com/excited-firefighters-point-out-kid-on-tricycle-1819571521')",
         "1"
        ],
        [
         "(1, \"excited cia director can't wait to declassify last night's incredible mission in middle east\", 'https://www.theonion.com/excited-cia-director-can-t-wait-to-declassify-last-nigh-1819577732')",
         "1"
        ],
        [
         "(1, 'excited archaeologists hit mass grave jackpot', 'https://www.theonion.com/excited-archaeologists-hit-mass-grave-jackpot-1834838066')",
         "1"
        ],
        [
         "(1, 'exhausted olympian finally decides to rent pyeongchang hotel room instead of flying home to america each night', 'https://www.theonion.com/exhausted-olympian-finally-decides-to-rent-pyeongchang-1823278294')",
         "1"
        ],
        [
         "(1, 'exhausted robert mueller turns off phone to give himself breather from russia probe news over holiday break', 'https://politics.theonion.com/exhausted-robert-mueller-turns-off-phone-to-give-himsel-1831260409')",
         "1"
        ],
        [
         "(1, 'exhausted paul giamatti to paul giamatti from home today', 'https://entertainment.theonion.com/exhausted-paul-giamatti-to-paul-giamatti-from-home-toda-1819590323')",
         "1"
        ],
        [
         "(1, 'experimental band theoretically good', 'https://www.theonion.com/experimental-band-theoretically-good-1819587646')",
         "1"
        ],
        [
         "(1, 'experts report $37 amount of money you need to donate to hurricane relief in order to completely forget about it', 'https://www.theonion.com/experts-report-37-amount-of-money-you-need-to-donate-t-1819580322')",
         "1"
        ],
        [
         "(1, 'experts refuse to warn of any new health hazards until americans deal with current backlog', 'https://www.theonion.com/experts-refuse-to-warn-of-any-new-health-hazards-until-1819578221')",
         "1"
        ],
        [
         "(1, 'experts recommend just putting up with everyone else', 'https://www.theonion.com/experts-recommend-just-putting-up-with-everyone-else-1830824586')",
         "1"
        ],
        [
         "(1, 'experts recommend changing batteries in smoke detector every 6 fires', 'https://www.theonion.com/experts-recommend-changing-batteries-in-smoke-detector-1833286965')",
         "1"
        ],
        [
         "(1, 'experts recommend breaking down crushing defeats into smaller, more manageable failures', 'https://www.theonion.com/experts-recommend-breaking-down-crushing-defeats-into-s-1819576523')",
         "1"
        ],
        [
         "(1, \"experts praise upcoming 'sonic' movie for accurate depiction of hedgehogs\", 'https://entertainment.theonion.com/experts-praise-upcoming-sonic-movie-for-accurate-depi-1834426041')",
         "1"
        ],
        [
         "(1, 'experts point to long, glorious history of successful u.s. bombing campaigns', 'https://www.theonion.com/experts-point-to-long-glorious-history-of-successful-u-1819575498')",
         "1"
        ],
        [
         "(1, \"experts confirm rainforest ecosystem destroyed to make room for onion social server farm wasn't that impressive to begin with\", 'https://www.theonion.com/experts-confirm-rainforest-ecosystem-destroyed-to-make-1826973065')",
         "1"
        ],
        [
         "(1, 'experts caution new car loses 90% of value as soon as you drive it off cliff', 'https://www.theonion.com/experts-caution-new-car-loses-90-of-value-as-soon-as-y-1833472139')",
         "1"
        ],
        [
         "(1, 'experts advise against throwing laptop across office even though it will feel incredible', 'https://www.theonion.com/experts-advise-against-throwing-laptop-across-office-ev-1819579112')",
         "1"
        ],
        [
         "(1, 'expert on international jewish conspiracy has never been more than 40 miles outside council bluffs, iowa', 'https://local.theonion.com/expert-on-international-jewish-conspiracy-has-never-bee-1819579647')",
         "1"
        ],
        [
         "(1, 'experimental anti-aging treatment still has few kinks, report infant researchers', 'https://www.theonion.com/experimental-anti-aging-treatment-still-has-few-kinks-1819580129')",
         "1"
        ],
        [
         "(1, 'excercise ball all the way over there', 'https://www.theonion.com/excercise-ball-all-the-way-over-there-1819588811')",
         "1"
        ],
        [
         "(1, 'expense-account wizard transforms prostitute into color copies', 'https://www.theonion.com/expense-account-wizard-transforms-prostitute-into-color-1819564889')",
         "1"
        ],
        [
         "(1, 'expectant parents throw some values together at last minute', 'https://www.theonion.com/expectant-parents-throw-some-values-together-at-last-mi-1819576233')",
         "1"
        ],
        [
         "(1, \"expectant mother ashamed to realize she's looking forward to new wheat thins flavor more than birth of own child\", 'https://www.theonion.com/expectant-mother-ashamed-to-realize-she-s-looking-forwa-1819575010')",
         "1"
        ],
        [
         "(1, 'expansive obama state of the union speech to touch on patent law, entomology, the films of robert altman', 'https://politics.theonion.com/expansive-obama-state-of-the-union-speech-to-touch-on-p-1819574546')",
         "1"
        ],
        [
         "(1, 'exit from apartment delayed 20 seconds to avoid pleasantries with neighbor', 'https://local.theonion.com/exit-from-apartment-delayed-20-seconds-to-avoid-pleasan-1819576364')",
         "1"
        ]
       ],
       "shape": {
        "columns": 1,
        "rows": 28617
       }
      },
      "text/plain": [
       "is_sarcastic  headline                                                                                                    article_link                                                                                                                    \n",
       "0             hillary clinton vs. herself                                                                                 https://www.huffingtonpost.comhttp://nymag.com/daily/intelligencer/2016/05/hillary-clinton-candidacy.html                           2\n",
       "1             nation not sure how many ex-trump staffers it can safely reabsorb                                           https://politics.theonion.com/nation-not-sure-how-many-ex-trump-staffers-it-can-safel-1823468346                                    2\n",
       "0             \"eco-warrior\" vandana shiva, at $40,000 a speech, rejoins hawaii anti-gmo crusade, but truth is the victim  https://www.huffingtonpost.com/entry/ecowarrior-vandana-shiva-_b_6528032.html                                                       1\n",
       "1             executive fascinated by electrician's lunch                                                                 https://www.theonion.com/executive-fascinated-by-electricians-lunch-1819569149                                                      1\n",
       "              exhausted nation unsure it has stamina to continue gun control dialogue for fifth consecutive day           https://www.theonion.com/exhausted-nation-unsure-it-has-stamina-to-continue-gun-1819578978                                          1\n",
       "                                                                                                                                                                                                                                                             ..\n",
       "0             powerful post reminds parents to enjoy the noise while they can                                             https://www.huffingtonpost.com/entry/powerful-post-reminds-parents-to-enjoy-the-noise-while-they-can_us_582a2d60e4b0c4b63b0e20f0    1\n",
       "              powerball ticket sold with all winning numbers in $421 million jackpot                                      https://www.huffingtonpost.com/entry/powerball-ticket-winning-ticket-sold_us_583aebe9e4b01ba68ac4cde7                               1\n",
       "              power plays by robert dekkers for post:ballet                                                               https://www.huffingtonpost.com/entry/power-plays-by-robert-dek_b_6204488.html                                                       1\n",
       "              power plan foes from mars, backers from venus (earth actually)                                              https://www.huffingtonpost.com/entry/power-plan-foes-from-mars_b_12068010.html                                                      1\n",
       "1             ​report: all standing between trump and presidency is nation that made him billionaire celebrity            https://politics.theonion.com/report-all-standing-between-trump-and-presidency-is-n-1819579024                                      1\n",
       "Name: count, Length: 28617, dtype: int64"
      ]
     },
     "metadata": {},
     "output_type": "display_data"
    }
   ],
   "source": [
    "# Check for duplicates\n",
    "display(df.value_counts())\n",
    "df.drop_duplicates(inplace=True)\n",
    "#df.value_counts()"
   ]
  },
  {
   "cell_type": "code",
   "execution_count": null,
   "metadata": {},
   "outputs": [
    {
     "data": {
      "application/vnd.microsoft.datawrangler.viewer.v0+json": {
       "columns": [
        {
         "name": "index",
         "rawType": "int64",
         "type": "integer"
        },
        {
         "name": "is_sarcastic",
         "rawType": "int64",
         "type": "integer"
        },
        {
         "name": "headline",
         "rawType": "object",
         "type": "string"
        },
        {
         "name": "article_link",
         "rawType": "object",
         "type": "string"
        }
       ],
       "ref": "1394a10a-f6a0-4abe-9938-3d10b56a0bf8",
       "rows": [],
       "shape": {
        "columns": 3,
        "rows": 0
       }
      },
      "text/html": [
       "<div>\n",
       "<style scoped>\n",
       "    .dataframe tbody tr th:only-of-type {\n",
       "        vertical-align: middle;\n",
       "    }\n",
       "\n",
       "    .dataframe tbody tr th {\n",
       "        vertical-align: top;\n",
       "    }\n",
       "\n",
       "    .dataframe thead th {\n",
       "        text-align: right;\n",
       "    }\n",
       "</style>\n",
       "<table border=\"1\" class=\"dataframe\">\n",
       "  <thead>\n",
       "    <tr style=\"text-align: right;\">\n",
       "      <th></th>\n",
       "      <th>is_sarcastic</th>\n",
       "      <th>headline</th>\n",
       "      <th>article_link</th>\n",
       "    </tr>\n",
       "  </thead>\n",
       "  <tbody>\n",
       "  </tbody>\n",
       "</table>\n",
       "</div>"
      ],
      "text/plain": [
       "Empty DataFrame\n",
       "Columns: [is_sarcastic, headline, article_link]\n",
       "Index: []"
      ]
     },
     "execution_count": 5,
     "metadata": {},
     "output_type": "execute_result"
    }
   ],
   "source": [
    "# Check empty headlines\n",
    "df[df['headline'] == '']"
   ]
  },
  {
   "cell_type": "code",
   "execution_count": 6,
   "metadata": {},
   "outputs": [
    {
     "data": {
      "application/vnd.microsoft.datawrangler.viewer.v0+json": {
       "columns": [
        {
         "name": "headline",
         "rawType": "object",
         "type": "string"
        },
        {
         "name": "count",
         "rawType": "int64",
         "type": "integer"
        }
       ],
       "ref": "37592ca9-e0e8-4b8a-b1e4-510333daae20",
       "rows": [
        [
         "'no way to prevent this,' says only nation where this regularly happens",
         "12"
        ],
        [
         "the 20 funniest tweets from women this week",
         "10"
        ],
        [
         "sunday roundup",
         "10"
        ],
        [
         "the funniest tweets from parents this week",
         "6"
        ],
        [
         "the funniest tweets from women this week",
         "4"
        ],
        [
         "report: make it stop",
         "4"
        ],
        [
         "sole remaining lung filled with rich, satisfying flavor",
         "3"
        ],
        [
         "fruit of islam cause man to soil fruit of looms",
         "2"
        ],
        [
         "willow rented",
         "2"
        ],
        [
         "saturday's morning email: funnies edition",
         "2"
        ],
        [
         "bush to lovely chilean ambassador:'i must paint you'",
         "2"
        ],
        [
         "islamic fundamentalists condemn casual day",
         "2"
        ],
        [
         "water pistol fired using sideways gangsta grip",
         "2"
        ],
        [
         "stripper failing school she's working self through",
         "2"
        ],
        [
         "neighbors remember serial killer as serial killer",
         "2"
        ],
        [
         "the book we're talking about",
         "2"
        ],
        [
         "man adds a few personalized tracks to standard new-girlfriend mix cd",
         "2"
        ],
        [
         "magic-markered initials fail to deter breakroom rice-cake thief",
         "2"
        ],
        [
         "area man likes food",
         "2"
        ],
        [
         "all y'all urged to go fuck yo' selves",
         "2"
        ],
        [
         "jessica simpson reveals slimmer figure after chopping off limbs",
         "2"
        ],
        [
         "woman injured in hostile makeover",
         "2"
        ],
        [
         "greenpeace decides northern spotted owl 'not worth the trouble anymore'",
         "2"
        ],
        [
         "hmo targets blacks with 'rapping good' health campaign",
         "2"
        ],
        [
         "mit researchers discover each other",
         "2"
        ],
        [
         "national filmstrip board calls for quiet",
         "2"
        ],
        [
         "report: keep reading and nobody gets hurt",
         "2"
        ],
        [
         "zamboni crime family indicted in ice-shaving scandal",
         "2"
        ],
        [
         "antarctic observational comic running out of ideas",
         "2"
        ],
        [
         "man always insists you toss him keys rather than just hand them to him",
         "2"
        ],
        [
         "pier 1 issues formal apology for rattan death march",
         "2"
        ],
        [
         "swiss threaten ricola embargo",
         "2"
        ],
        [
         "shape magazine declares july 'let yourself go' month",
         "2"
        ],
        [
         "data-entry clerk reapplies carmex at 17-minute intervals",
         "2"
        ],
        [
         "two dead in 'kind of brutal' slaying",
         "2"
        ],
        [
         "systems administrator would so fuck new trainee",
         "2"
        ],
        [
         "congress raises killing age to 19",
         "2"
        ],
        [
         "will smith: the black man everyone at work can agree on",
         "2"
        ],
        [
         "kleenex box inadequately covered",
         "2"
        ],
        [
         "the best chance to defeat roy moore may be for the democratic party to lie low",
         "2"
        ],
        [
         "area man busts his ass all day, and for what?",
         "2"
        ],
        [
         "housekeeper too busy to be sassy",
         "2"
        ],
        [
         "the conundrum of the midterms",
         "2"
        ],
        [
         "mason-dixon line renamed ihop-waffle house line",
         "2"
        ],
        [
         "man from canada acts like he's not cold",
         "2"
        ],
        [
         "that same guy with the glasses at every rock show",
         "2"
        ],
        [
         "rotating knife vortex closed pending safety investigation",
         "2"
        ],
        [
         "area woman marries into health insurance",
         "2"
        ],
        [
         "podiatrist a jerk",
         "2"
        ],
        [
         "5 things everyone gets wrong about napping",
         "2"
        ]
       ],
       "shape": {
        "columns": 1,
        "rows": 28503
       }
      },
      "text/plain": [
       "headline\n",
       "'no way to prevent this,' says only nation where this regularly happens            12\n",
       "the 20 funniest tweets from women this week                                        10\n",
       "sunday roundup                                                                     10\n",
       "the funniest tweets from parents this week                                          6\n",
       "the funniest tweets from women this week                                            4\n",
       "                                                                                   ..\n",
       "man lived alongside dead father's body for four months                              1\n",
       "obama family adopts 44-year-old portuguese water man                                1\n",
       "we need to treat gun violence like a public health problem                          1\n",
       "e3 organizers cancel convention after discovering immersive power of literature     1\n",
       "dad clarifies this not a food stop                                                  1\n",
       "Name: count, Length: 28503, dtype: int64"
      ]
     },
     "execution_count": 6,
     "metadata": {},
     "output_type": "execute_result"
    }
   ],
   "source": [
    "df['headline'] = df['headline'].map(lambda x: x.strip() if isinstance(x, str) else x)\n",
    "df['headline'].value_counts()"
   ]
  },
  {
   "cell_type": "code",
   "execution_count": 7,
   "metadata": {},
   "outputs": [
    {
     "data": {
      "application/vnd.microsoft.datawrangler.viewer.v0+json": {
       "columns": [
        {
         "name": "headline_count",
         "rawType": "int64",
         "type": "integer"
        },
        {
         "name": "count",
         "rawType": "int64",
         "type": "integer"
        }
       ],
       "ref": "a58ee04b-1eda-46a4-aa8f-e35100718814",
       "rows": [
        [
         "1",
         "28424"
        ],
        [
         "2",
         "144"
        ],
        [
         "10",
         "20"
        ],
        [
         "12",
         "12"
        ],
        [
         "4",
         "8"
        ],
        [
         "6",
         "6"
        ],
        [
         "3",
         "3"
        ]
       ],
       "shape": {
        "columns": 1,
        "rows": 7
       }
      },
      "text/plain": [
       "headline_count\n",
       "1     28424\n",
       "2       144\n",
       "10       20\n",
       "12       12\n",
       "4         8\n",
       "6         6\n",
       "3         3\n",
       "Name: count, dtype: int64"
      ]
     },
     "execution_count": 7,
     "metadata": {},
     "output_type": "execute_result"
    }
   ],
   "source": [
    "# add new column with count of each headline\n",
    "df['headline_count'] = df.groupby('headline')['headline'].transform('count')\n",
    "df['headline_count'].value_counts()"
   ]
  },
  {
   "cell_type": "code",
   "execution_count": 8,
   "metadata": {},
   "outputs": [
    {
     "data": {
      "application/vnd.microsoft.datawrangler.viewer.v0+json": {
       "columns": [
        {
         "name": "('headline', 'is_sarcastic')",
         "rawType": "object",
         "type": "unknown"
        },
        {
         "name": "0",
         "rawType": "int64",
         "type": "integer"
        }
       ],
       "ref": "428bcfa0-3174-4655-ac01-dad76efb4c16",
       "rows": [
        [
         "(\"'no way to prevent this,' says only nation where this regularly happens\", 1)",
         "12"
        ],
        [
         "('5 things everyone gets wrong about napping', 0)",
         "2"
        ],
        [
         "(\"all y'all urged to go fuck yo' selves\", 1)",
         "2"
        ],
        [
         "('antarctic observational comic running out of ideas', 1)",
         "2"
        ],
        [
         "('area man busts his ass all day, and for what?', 1)",
         "2"
        ],
        [
         "('area man killed in committee', 1)",
         "2"
        ],
        [
         "('area man likes food', 1)",
         "2"
        ],
        [
         "('area panties in a bunch', 1)",
         "2"
        ],
        [
         "('area woman marries into health insurance', 1)",
         "2"
        ],
        [
         "('bird has big plans for cage', 1)",
         "2"
        ],
        [
         "(\"bush to lovely chilean ambassador:'i must paint you'\", 1)",
         "2"
        ],
        [
         "(\"candy purchase puts yet more money in raisinets' bloated coffers\", 1)",
         "2"
        ],
        [
         "('celebrity disappointed after meeting fan', 1)",
         "2"
        ],
        [
         "('charlton heston gets serious', 1)",
         "2"
        ],
        [
         "('circus runaway not looking forward to hometown show', 1)",
         "2"
        ],
        [
         "('congress raises killing age to 19', 1)",
         "2"
        ],
        [
         "('cosmopolitan offers 15 tips for fattening up for winter', 1)",
         "2"
        ],
        [
         "('data-entry clerk reapplies carmex at 17-minute intervals', 1)",
         "2"
        ],
        [
         "(\"exxonmobil swears it's going to start taxes early this year\", 1)",
         "2"
        ],
        [
         "('fruit of islam cause man to soil fruit of looms', 1)",
         "2"
        ],
        [
         "('funniest parenting tweets: what moms and dads said on twitter this week', 0)",
         "2"
        ],
        [
         "('gay gene isolated, ostracized', 1)",
         "2"
        ],
        [
         "('god refuses to grant any more transcendent near-death experiences to people who crash snowmobiles', 1)",
         "2"
        ],
        [
         "(\"greenpeace decides northern spotted owl 'not worth the trouble anymore'\", 1)",
         "2"
        ],
        [
         "(\"guy who just wiped out immediately claims he's fine\", 1)",
         "2"
        ],
        [
         "(\"hero firefighter: 'i'm a hero'\", 1)",
         "2"
        ],
        [
         "(\"hmo targets blacks with 'rapping good' health campaign\", 1)",
         "2"
        ],
        [
         "('housekeeper too busy to be sassy', 1)",
         "2"
        ],
        [
         "('if area dad steps on legos one more time', 1)",
         "2"
        ],
        [
         "('islamic fundamentalists condemn casual day', 1)",
         "2"
        ],
        [
         "('jessica simpson reveals slimmer figure after chopping off limbs', 1)",
         "2"
        ],
        [
         "('judge totally understands where defendant is coming from', 1)",
         "2"
        ],
        [
         "('kleenex box inadequately covered', 1)",
         "2"
        ],
        [
         "(\"lone man with six-pack 'partying'\", 1)",
         "2"
        ],
        [
         "(\"loser can't even get wife pregnant\", 1)",
         "2"
        ],
        [
         "('magic-markered initials fail to deter breakroom rice-cake thief', 1)",
         "2"
        ],
        [
         "('magical gallery transforms dull objects into art', 1)",
         "2"
        ],
        [
         "('man adds a few personalized tracks to standard new-girlfriend mix cd', 1)",
         "2"
        ],
        [
         "('man always insists you toss him keys rather than just hand them to him', 1)",
         "2"
        ],
        [
         "(\"man from canada acts like he's not cold\", 1)",
         "2"
        ],
        [
         "('man thinks receptionist is hitting on him', 1)",
         "2"
        ],
        [
         "('mason-dixon line renamed ihop-waffle house line', 1)",
         "2"
        ],
        [
         "('mit researchers discover each other', 1)",
         "2"
        ],
        [
         "('nation not sure how many ex-trump staffers it can safely reabsorb', 1)",
         "2"
        ],
        [
         "('national filmstrip board calls for quiet', 1)",
         "2"
        ],
        [
         "('neighbors remember serial killer as serial killer', 1)",
         "2"
        ],
        [
         "(\"new 'steak & onion' potato chips taste disturbingly like steak and onions\", 1)",
         "2"
        ],
        [
         "('personal philosophy stolen from martin luther king jr.', 1)",
         "2"
        ],
        [
         "('pier 1 issues formal apology for rattan death march', 1)",
         "2"
        ],
        [
         "('podiatrist a jerk', 1)",
         "2"
        ]
       ],
       "shape": {
        "columns": 1,
        "rows": 79
       }
      },
      "text/plain": [
       "headline                                                                 is_sarcastic\n",
       "'no way to prevent this,' says only nation where this regularly happens  1               12\n",
       "5 things everyone gets wrong about napping                               0                2\n",
       "all y'all urged to go fuck yo' selves                                    1                2\n",
       "antarctic observational comic running out of ideas                       1                2\n",
       "area man busts his ass all day, and for what?                            1                2\n",
       "                                                                                         ..\n",
       "will smith: the black man everyone at work can agree on                  1                2\n",
       "willow rented                                                            1                2\n",
       "wolf pack fails to raise orphaned infant                                 1                2\n",
       "woman injured in hostile makeover                                        1                2\n",
       "zamboni crime family indicted in ice-shaving scandal                     1                2\n",
       "Length: 79, dtype: int64"
      ]
     },
     "execution_count": 8,
     "metadata": {},
     "output_type": "execute_result"
    }
   ],
   "source": [
    "df[df['headline_count']>=2].groupby(['headline','is_sarcastic']).size()#.reset_index(name='count').sort_values(by='count', ascending=False)"
   ]
  },
  {
   "cell_type": "code",
   "execution_count": 9,
   "metadata": {},
   "outputs": [
    {
     "name": "stdout",
     "output_type": "stream",
     "text": [
      "No conflicting headlines found.\n"
     ]
    }
   ],
   "source": [
    "# Check conflicting: if the same headline has both sarcastic and non-sarcastic labels\n",
    "conflicting_headlines = df.groupby('headline')['is_sarcastic'].nunique()\n",
    "\n",
    "# Filter for headlines that have more than one unique value in 'is_sarcastic'\n",
    "conflicting_headlines = conflicting_headlines[conflicting_headlines > 1].index.tolist()\n",
    "\n",
    "if conflicting_headlines:\n",
    "    print(f\"Conflicting headlines found: {len(conflicting_headlines)}\")\n",
    "    for headline in conflicting_headlines:\n",
    "        print(headline)\n",
    "else:\n",
    "    print(\"No conflicting headlines found.\")"
   ]
  },
  {
   "cell_type": "code",
   "execution_count": 10,
   "metadata": {},
   "outputs": [
    {
     "data": {
      "text/plain": [
       "(28503, 4)"
      ]
     },
     "execution_count": 10,
     "metadata": {},
     "output_type": "execute_result"
    }
   ],
   "source": [
    "df.drop_duplicates(subset=['headline', 'is_sarcastic'], inplace=True)\n",
    "df.shape"
   ]
  },
  {
   "cell_type": "code",
   "execution_count": 11,
   "metadata": {},
   "outputs": [
    {
     "data": {
      "application/vnd.microsoft.datawrangler.viewer.v0+json": {
       "columns": [
        {
         "name": "is_sarcastic",
         "rawType": "int64",
         "type": "integer"
        },
        {
         "name": "count",
         "rawType": "int64",
         "type": "integer"
        }
       ],
       "ref": "c8f6ed47-62b5-401a-be3b-de6d0567c8c2",
       "rows": [
        [
         "0",
         "14951"
        ],
        [
         "1",
         "13552"
        ]
       ],
       "shape": {
        "columns": 1,
        "rows": 2
       }
      },
      "text/plain": [
       "is_sarcastic\n",
       "0    14951\n",
       "1    13552\n",
       "Name: count, dtype: int64"
      ]
     },
     "execution_count": 11,
     "metadata": {},
     "output_type": "execute_result"
    }
   ],
   "source": [
    "df['is_sarcastic'].value_counts()"
   ]
  },
  {
   "cell_type": "code",
   "execution_count": 12,
   "metadata": {},
   "outputs": [
    {
     "data": {
      "text/plain": [
       "Index(['is_sarcastic', 'headline', 'article_link', 'headline_count'], dtype='object')"
      ]
     },
     "execution_count": 12,
     "metadata": {},
     "output_type": "execute_result"
    }
   ],
   "source": [
    "df.columns"
   ]
  },
  {
   "cell_type": "code",
   "execution_count": 13,
   "metadata": {},
   "outputs": [],
   "source": [
    "df.drop(['headline_count', 'article_link', 'headline_count'], axis=1, inplace=True)"
   ]
  },
  {
   "cell_type": "code",
   "execution_count": 14,
   "metadata": {},
   "outputs": [
    {
     "data": {
      "text/plain": [
       "Index(['is_sarcastic', 'headline'], dtype='object')"
      ]
     },
     "execution_count": 14,
     "metadata": {},
     "output_type": "execute_result"
    }
   ],
   "source": [
    "df.columns"
   ]
  },
  {
   "cell_type": "markdown",
   "metadata": {},
   "source": [
    "# Train test split"
   ]
  },
  {
   "cell_type": "code",
   "execution_count": null,
   "metadata": {},
   "outputs": [],
   "source": [
    "# Train test split\n",
    "X = df['headline']\n",
    "y = df['is_sarcastic']\n",
    "X_train, X_test, y_train, y_test = train_test_split(X, y,\n",
    "                                                    test_size=0.3,\n",
    "                                                    random_state=42,\n",
    "                                                    stratify=y)"
   ]
  },
  {
   "cell_type": "markdown",
   "metadata": {
    "id": "CmRclPlP7gh4"
   },
   "source": [
    "# Clean and normalize texts"
   ]
  },
  {
   "cell_type": "markdown",
   "metadata": {},
   "source": [
    "## Functions for text normalization"
   ]
  },
  {
   "cell_type": "code",
   "execution_count": 103,
   "metadata": {},
   "outputs": [
    {
     "name": "stderr",
     "output_type": "stream",
     "text": [
      "[nltk_data] Downloading package punkt to /Users/jianhuixu/nltk_data...\n",
      "[nltk_data]   Package punkt is already up-to-date!\n",
      "[nltk_data] Downloading package punkt_tab to\n",
      "[nltk_data]     /Users/jianhuixu/nltk_data...\n",
      "[nltk_data]   Package punkt_tab is already up-to-date!\n",
      "[nltk_data] Downloading package stopwords to\n",
      "[nltk_data]     /Users/jianhuixu/nltk_data...\n",
      "[nltk_data]   Package stopwords is already up-to-date!\n"
     ]
    }
   ],
   "source": [
    "import re\n",
    "from bs4 import BeautifulSoup\n",
    "import unicodedata\n",
    "import contractions\n",
    "import spacy\n",
    "import nltk\n",
    "import tqdm # for nice progressbar\n",
    "\n",
    "nltk.download('punkt')\n",
    "nltk.download('punkt_tab')\n",
    "nltk.download('stopwords')\n",
    "\n",
    "# python -m spacy download en_core_web_sm\n",
    "nlp = spacy.load('en_core_web_sm') # not installed\n",
    "\n",
    "# HTML removal\n",
    "def strip_html_tags(text):\n",
    "    soup = BeautifulSoup(text, \"html.parser\")\n",
    "    [s.extract() for s in soup(['iframe', 'script'])]\n",
    "    stripped_text = soup.get_text()\n",
    "    stripped_text = re.sub(r'[\\r|\\n|\\r\\n]+', '\\n', stripped_text)\n",
    "    return stripped_text\n",
    "\n",
    "# accent removal\n",
    "def remove_accented_chars(text):\n",
    "    text = unicodedata.normalize('NFKD', text).encode('ascii', 'ignore').decode('utf-8', 'ignore')\n",
    "    return text\n",
    "\n",
    "# contraction expansion\n",
    "def expand_contractions(text):\n",
    "    return contractions.fix(text)\n",
    "\n",
    "# lemamtization\n",
    "def spacy_lemmatize_text(text):\n",
    "    text = nlp(text)\n",
    "    text = ' '.join([word.lemma_ if word.lemma_ != '-PRON-' else word.text for word in text])\n",
    "    return text\n",
    "\n",
    "# special character removal\n",
    "def remove_special_characters(text, remove_digits=False, exclude='\\\"\\'-.!?'):\n",
    "    # Build regex pattern dynamically to exclude specified characters\n",
    "    exclude_escaped = re.escape(exclude)\n",
    "    if not remove_digits:\n",
    "        pattern = rf'[^a-zA-Z0-9\\s{exclude_escaped}]'\n",
    "    else:\n",
    "        pattern = rf'[^a-zA-Z\\s{exclude_escaped}]'\n",
    "    return re.sub(pattern, '', text)\n",
    "\n",
    "# stopword removal\n",
    "def remove_stopwords(text, stopwords=None):\n",
    "    if not stopwords:\n",
    "        stopwords = nltk.corpus.stopwords.words('english')\n",
    "    tokens = nltk.word_tokenize(text)\n",
    "    tokens = [token.strip() for token in tokens]\n",
    "    filtered_tokens = [token for token in tokens if token.lower() not in stopwords]\n",
    "    filtered_text = ' '.join(filtered_tokens)\n",
    "    return filtered_text\n",
    "\n",
    "def remove_zero_width_spaces(text):\n",
    "    # Remove zero-width space characters (U+200B) combined with words\n",
    "    return text.replace('\\u200b', '')\n",
    "\n",
    "def uniform_hyphens(text):\n",
    "    \"\"\"\n",
    "    Replace all types of hyphens/dashes in the text with a standard ASCII hyphen '-'.\n",
    "    Handles: hyphen-minus, en dash, em dash, figure dash, horizontal bar, etc.\n",
    "    \"\"\"\n",
    "    # Unicode dashes: \\u2010-\\u2015, \\u2212, \\u2043, \\uFE58, \\uFE63, \\uFF0D\n",
    "    dash_pattern = re.compile(r'[\\u2010\\u2011\\u2012\\u2013\\u2014\\u2015\\u2212\\u2043\\uFE58\\uFE63\\uFF0D]')\n",
    "    # Replace all with ASCII hyphen-minus\n",
    "    text = dash_pattern.sub('-', text)\n",
    "    return text\n",
    "\n",
    "def add_spaces_around_special_chars(text):\n",
    "    # Define the set of special characters you want to target\n",
    "    special_chars = r'\\.\\,\\!\\?\\(\\)\\[\\]\\{\\}\\-\\\"\\':;$%#&'\n",
    "    # Add spaces around each special character\n",
    "    return re.sub(f'([{special_chars}])', r' \\1 ', text)\n",
    "\n",
    "def text_pre_processor(text, zero_width_spaces_removal=True, html_strip=True,  \n",
    "                       accented_char_removal=True, contraction_expansion=True,\n",
    "                       text_lower_case=True, text_lemmatization=True,\n",
    "                       special_char_removal=True, exclude_chars='\\'\\\"-{}<>', remove_digits=True, \n",
    "                       stopword_removal=True,\n",
    "                       stopword_list=None):\n",
    "    \"\"\"\n",
    "    lemmatization is slow\n",
    "    \"\"\"\n",
    "    # remove zero-width spaces\n",
    "    if zero_width_spaces_removal:\n",
    "        text = remove_zero_width_spaces(text)\n",
    "\n",
    "    # strip HTML\n",
    "    if html_strip:\n",
    "        text = strip_html_tags(text)\n",
    "\n",
    "    # remove accented characters\n",
    "    if accented_char_removal:\n",
    "        text = remove_accented_chars(text)\n",
    "\n",
    "    # expand contractions\n",
    "    if contraction_expansion:\n",
    "        text = expand_contractions(text)\n",
    "\n",
    "    # lowercase the text\n",
    "    if text_lower_case:\n",
    "        text = text.lower()\n",
    "\n",
    "    # lemmatize text\n",
    "    if text_lemmatization:\n",
    "        text = spacy_lemmatize_text(text)\n",
    "\n",
    "    # remove special characters and\\or digits\n",
    "    if special_char_removal:\n",
    "        # insert spaces between special characters to isolate them\n",
    "        special_char_pattern = re.compile(r'([{.(-)!}])') # 'I will not go!here' => I will not go ! here'\n",
    "        text = special_char_pattern.sub(\" \\\\1 \", text)\n",
    "        text = remove_special_characters(text, remove_digits=remove_digits, exclude=exclude_chars)\n",
    "        # I will not go!here => I will not gohere\n",
    "        # I will not go ! here' => I will not go  here\n",
    "\n",
    "    # remove stopwords\n",
    "    if stopword_removal:\n",
    "        text = remove_stopwords(text, stopwords=stopword_list)\n",
    "        \n",
    "    # remove extra newlines (often might be present in really noisy text)\n",
    "    text = text.translate(text.maketrans(\"\\n\\t\\r\", \"   \"))\n",
    "    # remove extra whitespace\n",
    "    text = re.sub(' +', ' ', text) # 'I   will  not' => 'I will not'\n",
    "    text = text.strip()\n",
    "\n",
    "    return text\n",
    "\n",
    "def text_pre_processor_1(text):\n",
    "    \"\"\"\n",
    "    Pre-process a single text document.\n",
    "    It is similar to the UnicodeTokenizer of TensorFlow!\n",
    "    \"\"\"\n",
    "    text = remove_zero_width_spaces(text)\n",
    "    text = uniform_hyphens(text)\n",
    "    text = strip_html_tags(text)\n",
    "    text = remove_accented_chars(text)\n",
    "    text = expand_contractions(text)\n",
    "    \n",
    "    # Collapse repeated hyphens (including those separated by spaces) to a single hyphen\n",
    "    text = re.sub(r'(-\\s*){2,}', '-', text)\n",
    "    # Collapse repeated apostrophes (including those separated by spaces) to a single apostrophe\n",
    "    text = re.sub(r\"('\\s*){2,}\", \"'\", text)\n",
    "\n",
    "    text = add_spaces_around_special_chars(text)  # add spaces around special characters\n",
    "    text = text.lower()  # lowercase the text\n",
    "\n",
    "    # remove extra whitespace\n",
    "    text = re.sub(' +', ' ', text) # 'I   will  not' => 'I will not'\n",
    "    text = text.strip()\n",
    "\n",
    "    return text\n",
    "\n",
    "def corpus_pre_processor(corpus, **kwargs):\n",
    "    norm_corpus = []\n",
    "    for doc in tqdm.tqdm(corpus):\n",
    "        norm_corpus.append(text_pre_processor(doc, **kwargs))\n",
    "    return norm_corpus\n",
    "\n",
    "def corpus_pre_processor_1(corpus, **kwargs):\n",
    "    norm_corpus = []\n",
    "    for doc in tqdm.tqdm(corpus):\n",
    "        norm_corpus.append(text_pre_processor_1(doc))\n",
    "    return norm_corpus"
   ]
  },
  {
   "cell_type": "code",
   "execution_count": null,
   "metadata": {},
   "outputs": [],
   "source": [
    "print(remove_non_english(\"This is English. 这是中文。\", placeholder='<FOREIGN>'))\n",
    "print(remove_non_english(\"¯\\\\_(ツ)_/¯\", placeholder='<FOREIGN>'))  # Output: <FOREIGN>\n",
    "print(remove_non_english(\"© 2024\", placeholder='<FOREIGN>'))      # Output: <FOREIGN> 2024"
   ]
  },
  {
   "cell_type": "code",
   "execution_count": 104,
   "metadata": {},
   "outputs": [
    {
     "name": "stderr",
     "output_type": "stream",
     "text": [
      "  0%|          | 0/28503 [00:00<?, ?it/s]/var/folders/qt/8nh0yrjj4q5dvgzzdm8s9j_40000gn/T/ipykernel_4246/3951685545.py:18: MarkupResemblesLocatorWarning: The input looks more like a filename than markup. You may want to open this file and pass the filehandle into Beautiful Soup.\n",
      "  soup = BeautifulSoup(text, \"html.parser\")\n",
      "100%|██████████| 28503/28503 [00:00<00:00, 31604.29it/s]\n"
     ]
    }
   ],
   "source": [
    "import unicodedata\n",
    "import re\n",
    "\n",
    "def find_special_nonenglish_accented_words(texts):\n",
    "    \"\"\"\n",
    "    Returns four lists of (line_number, word, text) tuples for words in the raw texts that contain:\n",
    "    - Special characters (not a-z, A-Z, 0-9, or space)\n",
    "    - Non-ASCII (non-English) characters\n",
    "    - Accented characters\n",
    "    - Non-Unicode (words that cannot be encoded in Unicode)\n",
    "    \"\"\"\n",
    "    special_char_pattern = re.compile(r'[^a-zA-Z0-9\\s]')\n",
    "    non_ascii_pattern = re.compile(r'[^\\x00-\\x7F]')\n",
    "    accented_pattern = re.compile(r'[\\u00C0-\\u017F]')  # Latin accented range\n",
    "\n",
    "    special_words = []\n",
    "    non_english_words = []\n",
    "    accented_words = []\n",
    "    non_unicode_words = []\n",
    "\n",
    "    for idx, text in enumerate(texts):\n",
    "        words = str(text).split()\n",
    "        for word in words:\n",
    "            if special_char_pattern.search(word):\n",
    "                special_words.append((idx, word, text))\n",
    "            if non_ascii_pattern.search(word):\n",
    "                non_english_words.append((idx, word, text))\n",
    "            if accented_pattern.search(word):\n",
    "                accented_words.append((idx, word, text))\n",
    "            try:\n",
    "                word.encode('utf-8')\n",
    "            except UnicodeEncodeError:\n",
    "                non_unicode_words.append((idx, word, text))\n",
    "    return special_words, non_english_words, accented_words, non_unicode_words\n",
    "\n",
    "#special_words, non_english_words, accented_words = find_special_nonenglish_accented_words(X)\n",
    "special_words, non_english_words, accented_words, non_unicode_words = find_special_nonenglish_accented_words(corpus_pre_processor_1(X))"
   ]
  },
  {
   "cell_type": "code",
   "execution_count": 107,
   "metadata": {},
   "outputs": [
    {
     "data": {
      "text/plain": [
       "'my worst audition ever?  or, the danger of playing paddle ball, chewing gum, and singing \"we built this city\" simultaneously'"
      ]
     },
     "execution_count": 107,
     "metadata": {},
     "output_type": "execute_result"
    }
   ],
   "source": [
    "X.iloc[105]"
   ]
  },
  {
   "cell_type": "code",
   "execution_count": 105,
   "metadata": {},
   "outputs": [
    {
     "data": {
      "application/vnd.microsoft.datawrangler.viewer.v0+json": {
       "columns": [
        {
         "name": "index",
         "rawType": "int64",
         "type": "integer"
        },
        {
         "name": "line_number",
         "rawType": "int64",
         "type": "integer"
        },
        {
         "name": "word",
         "rawType": "object",
         "type": "string"
        },
        {
         "name": "text",
         "rawType": "object",
         "type": "string"
        }
       ],
       "ref": "54fe76c0-50a7-4f67-95fa-0c80b7e1eaeb",
       "rows": [
        [
         "0",
         "1",
         ".",
         "dem rep . totally nails why congress is falling short on gender , racial equality"
        ],
        [
         "1",
         "1",
         ",",
         "dem rep . totally nails why congress is falling short on gender , racial equality"
        ],
        [
         "2",
         "2",
         ":",
         "eat your veggies : 9 deliciously different recipes"
        ],
        [
         "3",
         "4",
         "'",
         "mother comes pretty close to using word ' streaming ' correctly"
        ],
        [
         "4",
         "4",
         "'",
         "mother comes pretty close to using word ' streaming ' correctly"
        ],
        [
         "5",
         "7",
         "'",
         "richard branson ' s global - warming donation nearly as much as cost of failed balloon trips"
        ],
        [
         "6",
         "7",
         "-",
         "richard branson ' s global - warming donation nearly as much as cost of failed balloon trips"
        ],
        [
         "7",
         "10",
         "(",
         "this lesbian is considered a father in indiana ( and an amazing one at that )"
        ],
        [
         "8",
         "10",
         ")",
         "this lesbian is considered a father in indiana ( and an amazing one at that )"
        ],
        [
         "9",
         "11",
         "'",
         "amanda peet told her daughter sex is ' a special hug '"
        ],
        [
         "10",
         "11",
         "'",
         "amanda peet told her daughter sex is ' a special hug '"
        ],
        [
         "11",
         "13",
         "'",
         "chris christie suggests hillary clinton was to blame for boko haram ' s kidnapping of hundreds of schoolgirls"
        ],
        [
         "12",
         "16",
         "-",
         "area boy enters jumping - and - touching - tops - of - doorways phase"
        ],
        [
         "13",
         "16",
         "-",
         "area boy enters jumping - and - touching - tops - of - doorways phase"
        ],
        [
         "14",
         "16",
         "-",
         "area boy enters jumping - and - touching - tops - of - doorways phase"
        ],
        [
         "15",
         "16",
         "-",
         "area boy enters jumping - and - touching - tops - of - doorways phase"
        ],
        [
         "16",
         "16",
         "-",
         "area boy enters jumping - and - touching - tops - of - doorways phase"
        ],
        [
         "17",
         "19",
         "-",
         "lin - manuel miranda would like to remind you to put your phone away"
        ],
        [
         "18",
         "24",
         ":",
         "bill clinton shoots down republicans : ' i strongly supported ' obamacare"
        ],
        [
         "19",
         "24",
         "'",
         "bill clinton shoots down republicans : ' i strongly supported ' obamacare"
        ],
        [
         "20",
         "24",
         "'",
         "bill clinton shoots down republicans : ' i strongly supported ' obamacare"
        ],
        [
         "21",
         "26",
         ":",
         "this new orange era : the growing divide"
        ],
        [
         "22",
         "29",
         ".",
         "i am bi . it took me 21 years to come out of the closet and say it ."
        ],
        [
         "23",
         "29",
         ".",
         "i am bi . it took me 21 years to come out of the closet and say it ."
        ],
        [
         "24",
         "34",
         "-",
         "new york introduces shoe - sharing program for city ' s pedestrians"
        ],
        [
         "25",
         "34",
         "'",
         "new york introduces shoe - sharing program for city ' s pedestrians"
        ],
        [
         "26",
         "36",
         ",",
         "expansive obama state of the union speech to touch on patent law , entomology , the films of robert altman"
        ],
        [
         "27",
         "36",
         ",",
         "expansive obama state of the union speech to touch on patent law , entomology , the films of robert altman"
        ],
        [
         "28",
         "38",
         ",",
         "police say woman made up story of attack by two men , one wearing a trump hat ( update )"
        ],
        [
         "29",
         "38",
         "(",
         "police say woman made up story of attack by two men , one wearing a trump hat ( update )"
        ],
        [
         "30",
         "38",
         ")",
         "police say woman made up story of attack by two men , one wearing a trump hat ( update )"
        ],
        [
         "31",
         "40",
         "-",
         "the best clothes for the man - child in your life"
        ],
        [
         "32",
         "42",
         "\"",
         "we are still processing that ending to the walking dead \" strangers \""
        ],
        [
         "33",
         "42",
         "\"",
         "we are still processing that ending to the walking dead \" strangers \""
        ],
        [
         "34",
         "43",
         "'",
         "new google project delivers critical info to refugees ' smartphones"
        ],
        [
         "35",
         "46",
         ":",
         "report : bridge probably has whole mess of bats under there"
        ],
        [
         "36",
         "47",
         "-",
         "texas republicans urge trump - style immigration crackdown"
        ],
        [
         "37",
         "48",
         "'",
         "tom hanks brags how ' smokin ' hot ' rita wilson is after 29 years of marriage"
        ],
        [
         "38",
         "48",
         "'",
         "tom hanks brags how ' smokin ' hot ' rita wilson is after 29 years of marriage"
        ],
        [
         "39",
         "48",
         "'",
         "tom hanks brags how ' smokin ' hot ' rita wilson is after 29 years of marriage"
        ],
        [
         "40",
         "50",
         ":",
         "lgbt christians speak out : \" love the sinner , hate the sin \" will not cut it anymore"
        ],
        [
         "41",
         "50",
         "\"",
         "lgbt christians speak out : \" love the sinner , hate the sin \" will not cut it anymore"
        ],
        [
         "42",
         "50",
         ",",
         "lgbt christians speak out : \" love the sinner , hate the sin \" will not cut it anymore"
        ],
        [
         "43",
         "50",
         "\"",
         "lgbt christians speak out : \" love the sinner , hate the sin \" will not cut it anymore"
        ],
        [
         "44",
         "51",
         ",",
         "handshake comes in at unusually high angle , velocity"
        ],
        [
         "45",
         "53",
         ":",
         "report : make it stop"
        ],
        [
         "46",
         "54",
         "-",
         "coed rec softball team having trouble finding enough hyper - competitive men to ruin experience"
        ],
        [
         "47",
         "55",
         "-",
         "brutalist beaver constructs paul rudolph - inspired dam"
        ],
        [
         "48",
         "56",
         ":",
         "jindal : westboro baptist members who protest funerals face arrest"
        ],
        [
         "49",
         "58",
         "'",
         "donald trump ' s latest attempt to repeal obamacare makes seth meyers sick"
        ]
       ],
       "shape": {
        "columns": 3,
        "rows": 29116
       }
      },
      "text/html": [
       "<div>\n",
       "<style scoped>\n",
       "    .dataframe tbody tr th:only-of-type {\n",
       "        vertical-align: middle;\n",
       "    }\n",
       "\n",
       "    .dataframe tbody tr th {\n",
       "        vertical-align: top;\n",
       "    }\n",
       "\n",
       "    .dataframe thead th {\n",
       "        text-align: right;\n",
       "    }\n",
       "</style>\n",
       "<table border=\"1\" class=\"dataframe\">\n",
       "  <thead>\n",
       "    <tr style=\"text-align: right;\">\n",
       "      <th></th>\n",
       "      <th>line_number</th>\n",
       "      <th>word</th>\n",
       "      <th>text</th>\n",
       "    </tr>\n",
       "  </thead>\n",
       "  <tbody>\n",
       "    <tr>\n",
       "      <th>0</th>\n",
       "      <td>1</td>\n",
       "      <td>.</td>\n",
       "      <td>dem rep . totally nails why congress is fallin...</td>\n",
       "    </tr>\n",
       "    <tr>\n",
       "      <th>1</th>\n",
       "      <td>1</td>\n",
       "      <td>,</td>\n",
       "      <td>dem rep . totally nails why congress is fallin...</td>\n",
       "    </tr>\n",
       "    <tr>\n",
       "      <th>2</th>\n",
       "      <td>2</td>\n",
       "      <td>:</td>\n",
       "      <td>eat your veggies : 9 deliciously different rec...</td>\n",
       "    </tr>\n",
       "    <tr>\n",
       "      <th>3</th>\n",
       "      <td>4</td>\n",
       "      <td>'</td>\n",
       "      <td>mother comes pretty close to using word ' stre...</td>\n",
       "    </tr>\n",
       "    <tr>\n",
       "      <th>4</th>\n",
       "      <td>4</td>\n",
       "      <td>'</td>\n",
       "      <td>mother comes pretty close to using word ' stre...</td>\n",
       "    </tr>\n",
       "    <tr>\n",
       "      <th>...</th>\n",
       "      <td>...</td>\n",
       "      <td>...</td>\n",
       "      <td>...</td>\n",
       "    </tr>\n",
       "    <tr>\n",
       "      <th>29111</th>\n",
       "      <td>28493</td>\n",
       "      <td>-</td>\n",
       "      <td>bakery owner vows to stop making wedding cakes...</td>\n",
       "    </tr>\n",
       "    <tr>\n",
       "      <th>29112</th>\n",
       "      <td>28496</td>\n",
       "      <td>'</td>\n",
       "      <td>polish rapper under fire for use of the word '...</td>\n",
       "    </tr>\n",
       "    <tr>\n",
       "      <th>29113</th>\n",
       "      <td>28496</td>\n",
       "      <td>'</td>\n",
       "      <td>polish rapper under fire for use of the word '...</td>\n",
       "    </tr>\n",
       "    <tr>\n",
       "      <th>29114</th>\n",
       "      <td>28497</td>\n",
       "      <td>'</td>\n",
       "      <td>how san antonio ' s dominant defense is fuelin...</td>\n",
       "    </tr>\n",
       "    <tr>\n",
       "      <th>29115</th>\n",
       "      <td>28501</td>\n",
       "      <td>-</td>\n",
       "      <td>mars probe destroyed by orbiting spielberg - g...</td>\n",
       "    </tr>\n",
       "  </tbody>\n",
       "</table>\n",
       "<p>29116 rows × 3 columns</p>\n",
       "</div>"
      ],
      "text/plain": [
       "       line_number word                                               text\n",
       "0                1    .  dem rep . totally nails why congress is fallin...\n",
       "1                1    ,  dem rep . totally nails why congress is fallin...\n",
       "2                2    :  eat your veggies : 9 deliciously different rec...\n",
       "3                4    '  mother comes pretty close to using word ' stre...\n",
       "4                4    '  mother comes pretty close to using word ' stre...\n",
       "...            ...  ...                                                ...\n",
       "29111        28493    -  bakery owner vows to stop making wedding cakes...\n",
       "29112        28496    '  polish rapper under fire for use of the word '...\n",
       "29113        28496    '  polish rapper under fire for use of the word '...\n",
       "29114        28497    '  how san antonio ' s dominant defense is fuelin...\n",
       "29115        28501    -  mars probe destroyed by orbiting spielberg - g...\n",
       "\n",
       "[29116 rows x 3 columns]"
      ]
     },
     "execution_count": 105,
     "metadata": {},
     "output_type": "execute_result"
    }
   ],
   "source": [
    "pd.DataFrame(special_words, columns=[\"line_number\", \"word\", \"text\"])"
   ]
  },
  {
   "cell_type": "code",
   "execution_count": 108,
   "metadata": {},
   "outputs": [
    {
     "data": {
      "application/vnd.microsoft.datawrangler.viewer.v0+json": {
       "columns": [
        {
         "name": "index",
         "rawType": "int64",
         "type": "integer"
        },
        {
         "name": "line_number",
         "rawType": "object",
         "type": "string"
        },
        {
         "name": "word",
         "rawType": "object",
         "type": "string"
        },
        {
         "name": "text",
         "rawType": "object",
         "type": "string"
        }
       ],
       "ref": "9a496daa-bcaf-43c0-860e-2e31f764e82c",
       "rows": [],
       "shape": {
        "columns": 3,
        "rows": 0
       }
      },
      "text/html": [
       "<div>\n",
       "<style scoped>\n",
       "    .dataframe tbody tr th:only-of-type {\n",
       "        vertical-align: middle;\n",
       "    }\n",
       "\n",
       "    .dataframe tbody tr th {\n",
       "        vertical-align: top;\n",
       "    }\n",
       "\n",
       "    .dataframe thead th {\n",
       "        text-align: right;\n",
       "    }\n",
       "</style>\n",
       "<table border=\"1\" class=\"dataframe\">\n",
       "  <thead>\n",
       "    <tr style=\"text-align: right;\">\n",
       "      <th></th>\n",
       "      <th>line_number</th>\n",
       "      <th>word</th>\n",
       "      <th>text</th>\n",
       "    </tr>\n",
       "  </thead>\n",
       "  <tbody>\n",
       "  </tbody>\n",
       "</table>\n",
       "</div>"
      ],
      "text/plain": [
       "Empty DataFrame\n",
       "Columns: [line_number, word, text]\n",
       "Index: []"
      ]
     },
     "execution_count": 108,
     "metadata": {},
     "output_type": "execute_result"
    }
   ],
   "source": [
    "pd.DataFrame(non_english_words, columns=[\"line_number\", \"word\", \"text\"])"
   ]
  },
  {
   "cell_type": "code",
   "execution_count": 109,
   "metadata": {},
   "outputs": [
    {
     "data": {
      "application/vnd.microsoft.datawrangler.viewer.v0+json": {
       "columns": [
        {
         "name": "index",
         "rawType": "int64",
         "type": "integer"
        },
        {
         "name": "line_number",
         "rawType": "object",
         "type": "string"
        },
        {
         "name": "word",
         "rawType": "object",
         "type": "string"
        },
        {
         "name": "text",
         "rawType": "object",
         "type": "string"
        }
       ],
       "ref": "206e360f-994f-40d0-aeb8-10bb3caa6eb6",
       "rows": [],
       "shape": {
        "columns": 3,
        "rows": 0
       }
      },
      "text/html": [
       "<div>\n",
       "<style scoped>\n",
       "    .dataframe tbody tr th:only-of-type {\n",
       "        vertical-align: middle;\n",
       "    }\n",
       "\n",
       "    .dataframe tbody tr th {\n",
       "        vertical-align: top;\n",
       "    }\n",
       "\n",
       "    .dataframe thead th {\n",
       "        text-align: right;\n",
       "    }\n",
       "</style>\n",
       "<table border=\"1\" class=\"dataframe\">\n",
       "  <thead>\n",
       "    <tr style=\"text-align: right;\">\n",
       "      <th></th>\n",
       "      <th>line_number</th>\n",
       "      <th>word</th>\n",
       "      <th>text</th>\n",
       "    </tr>\n",
       "  </thead>\n",
       "  <tbody>\n",
       "  </tbody>\n",
       "</table>\n",
       "</div>"
      ],
      "text/plain": [
       "Empty DataFrame\n",
       "Columns: [line_number, word, text]\n",
       "Index: []"
      ]
     },
     "execution_count": 109,
     "metadata": {},
     "output_type": "execute_result"
    }
   ],
   "source": [
    "pd.DataFrame(accented_words, columns=[\"line_number\", \"word\", \"text\"])"
   ]
  },
  {
   "cell_type": "markdown",
   "metadata": {},
   "source": [
    "## Check text preprocessors and their effects on LR\n",
    "\n",
    "* Removing stop words strongly degrades on model performance\n",
    "* Romoving contraction slightly improve it by 0.01 in acc\n",
    "* Lemmatization is very slow"
   ]
  },
  {
   "cell_type": "markdown",
   "metadata": {},
   "source": [
    "### Quick look at the preprocessed text"
   ]
  },
  {
   "cell_type": "code",
   "execution_count": null,
   "metadata": {},
   "outputs": [],
   "source": [
    "%%time\n",
    "# Lemmatization is slow\n",
    "norm_train = corpus_pre_processor(X_train, remove_digits=False)\n",
    "norm_test = corpus_pre_processor(X_test, remove_digits=False)"
   ]
  },
  {
   "cell_type": "code",
   "execution_count": 19,
   "metadata": {},
   "outputs": [
    {
     "name": "stdout",
     "output_type": "stream",
     "text": [
      "Original: kentucky's gop bromance deepens, even without true love\n",
      "Processed: kentucky gop bromance deepen even without true love\n",
      "\n",
      "Original: friday's morning email: inside trump's presser for the ages\n",
      "Processed: friday morning email inside trump presser age\n",
      "\n",
      "Original: top 10 reasons i'm glad i grew up without facebook\n",
      "Processed: top 10 reason glad grow without facebook\n",
      "\n",
      "Original: how to find the right haircut for your face shape\n",
      "Processed: find right haircut face shape\n",
      "\n",
      "Original: scientists finally prove what area dad has been saying for years\n",
      "Processed: scientist finally prove area dad say year\n",
      "\n"
     ]
    }
   ],
   "source": [
    "# Compare the first 5 processed headlines with the original ones\n",
    "# \"'\" is removed by remove_special_characters: friday's->fridays\n",
    "# lemmatization: fridays->friday\n",
    "# Stopwords are removed: 'the', 'a', 'is', 'are', 'i' etc.\n",
    "\n",
    "for i in range(5):\n",
    "    print(f\"Original: {X_train.iloc[i]}\")\n",
    "    print(f\"Processed: {norm_train[i]}\")\n",
    "    print()"
   ]
  },
  {
   "cell_type": "markdown",
   "metadata": {},
   "source": [
    "### Effects on LR for different text-preprocess step"
   ]
  },
  {
   "cell_type": "code",
   "execution_count": 26,
   "metadata": {},
   "outputs": [
    {
     "name": "stdout",
     "output_type": "stream",
     "text": [
      "zero_width_spaces_removal: True\n",
      "html_strip: True\n",
      "accented_char_removal: True\n",
      "contraction_expansion: True\n",
      "separate_quotesQ: True\n",
      "text_lower_case: True\n",
      "text_lemmatization: True\n",
      "special_char_removal: True\n",
      "exclude_chars: '\"-{}<>\n",
      "remove_digits: True\n",
      "stopword_removal: True\n",
      "stopword_list: None\n",
      "zero_width_spaces_removal: True\n"
     ]
    },
    {
     "name": "stderr",
     "output_type": "stream",
     "text": [
      "100%|██████████| 19952/19952 [00:00<00:00, 339049.00it/s]\n",
      "100%|██████████| 8551/8551 [00:00<00:00, 367907.82it/s]\n"
     ]
    },
    {
     "name": "stdout",
     "output_type": "stream",
     "text": [
      "zero_width_spaces_removal:               precision    recall  f1-score   support\n",
      "\n",
      "           0       0.85      0.84      0.84      4485\n",
      "           1       0.82      0.84      0.83      4066\n",
      "\n",
      "    accuracy                           0.84      8551\n",
      "   macro avg       0.84      0.84      0.84      8551\n",
      "weighted avg       0.84      0.84      0.84      8551\n",
      "\n",
      "html_strip: True\n"
     ]
    },
    {
     "name": "stderr",
     "output_type": "stream",
     "text": [
      "  0%|          | 0/19952 [00:00<?, ?it/s]/var/folders/qt/8nh0yrjj4q5dvgzzdm8s9j_40000gn/T/ipykernel_4246/676515577.py:18: MarkupResemblesLocatorWarning: The input looks more like a filename than markup. You may want to open this file and pass the filehandle into Beautiful Soup.\n",
      "  soup = BeautifulSoup(text, \"html.parser\")\n",
      "100%|██████████| 19952/19952 [00:00<00:00, 34004.91it/s]\n",
      "100%|██████████| 8551/8551 [00:00<00:00, 45638.18it/s]\n"
     ]
    },
    {
     "name": "stdout",
     "output_type": "stream",
     "text": [
      "html_strip:               precision    recall  f1-score   support\n",
      "\n",
      "           0       0.85      0.84      0.84      4485\n",
      "           1       0.82      0.84      0.83      4066\n",
      "\n",
      "    accuracy                           0.84      8551\n",
      "   macro avg       0.84      0.84      0.84      8551\n",
      "weighted avg       0.84      0.84      0.84      8551\n",
      "\n",
      "accented_char_removal: True\n"
     ]
    },
    {
     "name": "stderr",
     "output_type": "stream",
     "text": [
      "100%|██████████| 19952/19952 [00:00<00:00, 159640.05it/s]\n",
      "100%|██████████| 8551/8551 [00:00<00:00, 135227.69it/s]\n"
     ]
    },
    {
     "name": "stdout",
     "output_type": "stream",
     "text": [
      "accented_char_removal:               precision    recall  f1-score   support\n",
      "\n",
      "           0       0.85      0.84      0.84      4485\n",
      "           1       0.82      0.84      0.83      4066\n",
      "\n",
      "    accuracy                           0.84      8551\n",
      "   macro avg       0.84      0.84      0.84      8551\n",
      "weighted avg       0.84      0.84      0.84      8551\n",
      "\n",
      "contraction_expansion: True\n"
     ]
    },
    {
     "name": "stderr",
     "output_type": "stream",
     "text": [
      "100%|██████████| 19952/19952 [00:00<00:00, 99592.69it/s]\n",
      "100%|██████████| 8551/8551 [00:00<00:00, 116919.02it/s]\n"
     ]
    },
    {
     "name": "stdout",
     "output_type": "stream",
     "text": [
      "contraction_expansion:               precision    recall  f1-score   support\n",
      "\n",
      "           0       0.85      0.84      0.85      4485\n",
      "           1       0.83      0.84      0.83      4066\n",
      "\n",
      "    accuracy                           0.84      8551\n",
      "   macro avg       0.84      0.84      0.84      8551\n",
      "weighted avg       0.84      0.84      0.84      8551\n",
      "\n",
      "separate_quotesQ: True\n"
     ]
    },
    {
     "name": "stderr",
     "output_type": "stream",
     "text": [
      "100%|██████████| 19952/19952 [00:00<00:00, 111948.80it/s]\n",
      "100%|██████████| 8551/8551 [00:00<00:00, 106747.62it/s]\n"
     ]
    },
    {
     "name": "stdout",
     "output_type": "stream",
     "text": [
      "separate_quotesQ:               precision    recall  f1-score   support\n",
      "\n",
      "           0       0.85      0.84      0.84      4485\n",
      "           1       0.82      0.84      0.83      4066\n",
      "\n",
      "    accuracy                           0.84      8551\n",
      "   macro avg       0.84      0.84      0.84      8551\n",
      "weighted avg       0.84      0.84      0.84      8551\n",
      "\n",
      "text_lower_case: True\n"
     ]
    },
    {
     "name": "stderr",
     "output_type": "stream",
     "text": [
      "100%|██████████| 19952/19952 [00:00<00:00, 115448.42it/s]\n",
      "100%|██████████| 8551/8551 [00:00<00:00, 150466.49it/s]\n"
     ]
    },
    {
     "name": "stdout",
     "output_type": "stream",
     "text": [
      "text_lower_case:               precision    recall  f1-score   support\n",
      "\n",
      "           0       0.85      0.84      0.84      4485\n",
      "           1       0.82      0.84      0.83      4066\n",
      "\n",
      "    accuracy                           0.84      8551\n",
      "   macro avg       0.84      0.84      0.84      8551\n",
      "weighted avg       0.84      0.84      0.84      8551\n",
      "\n",
      "text_lemmatization: Skipped (slow)\n",
      "special_char_removal: True\n"
     ]
    },
    {
     "name": "stderr",
     "output_type": "stream",
     "text": [
      "100%|██████████| 19952/19952 [00:00<00:00, 100113.95it/s]\n",
      "100%|██████████| 8551/8551 [00:00<00:00, 114857.05it/s]\n"
     ]
    },
    {
     "name": "stdout",
     "output_type": "stream",
     "text": [
      "special_char_removal:               precision    recall  f1-score   support\n",
      "\n",
      "           0       0.85      0.84      0.85      4485\n",
      "           1       0.82      0.84      0.83      4066\n",
      "\n",
      "    accuracy                           0.84      8551\n",
      "   macro avg       0.84      0.84      0.84      8551\n",
      "weighted avg       0.84      0.84      0.84      8551\n",
      "\n",
      "exclude_chars: True\n"
     ]
    },
    {
     "name": "stderr",
     "output_type": "stream",
     "text": [
      "100%|██████████| 19952/19952 [00:00<00:00, 139755.26it/s]\n",
      "100%|██████████| 8551/8551 [00:00<00:00, 147476.88it/s]\n"
     ]
    },
    {
     "name": "stdout",
     "output_type": "stream",
     "text": [
      "exclude_chars:               precision    recall  f1-score   support\n",
      "\n",
      "           0       0.85      0.84      0.84      4485\n",
      "           1       0.82      0.84      0.83      4066\n",
      "\n",
      "    accuracy                           0.84      8551\n",
      "   macro avg       0.84      0.84      0.84      8551\n",
      "weighted avg       0.84      0.84      0.84      8551\n",
      "\n",
      "remove_digits: True\n"
     ]
    },
    {
     "name": "stderr",
     "output_type": "stream",
     "text": [
      "100%|██████████| 19952/19952 [00:00<00:00, 166277.73it/s]\n",
      "100%|██████████| 8551/8551 [00:00<00:00, 187172.82it/s]\n"
     ]
    },
    {
     "name": "stdout",
     "output_type": "stream",
     "text": [
      "remove_digits:               precision    recall  f1-score   support\n",
      "\n",
      "           0       0.85      0.84      0.84      4485\n",
      "           1       0.82      0.84      0.83      4066\n",
      "\n",
      "    accuracy                           0.84      8551\n",
      "   macro avg       0.84      0.84      0.84      8551\n",
      "weighted avg       0.84      0.84      0.84      8551\n",
      "\n",
      "stopword_removal: True\n"
     ]
    },
    {
     "name": "stderr",
     "output_type": "stream",
     "text": [
      "100%|██████████| 19952/19952 [00:02<00:00, 9567.58it/s] \n",
      "100%|██████████| 8551/8551 [00:00<00:00, 10333.29it/s]\n"
     ]
    },
    {
     "name": "stdout",
     "output_type": "stream",
     "text": [
      "stopword_removal:               precision    recall  f1-score   support\n",
      "\n",
      "           0       0.79      0.83      0.81      4485\n",
      "           1       0.80      0.76      0.78      4066\n",
      "\n",
      "    accuracy                           0.79      8551\n",
      "   macro avg       0.80      0.79      0.79      8551\n",
      "weighted avg       0.79      0.79      0.79      8551\n",
      "\n",
      "stopword_list: True\n"
     ]
    },
    {
     "name": "stderr",
     "output_type": "stream",
     "text": [
      "100%|██████████| 19952/19952 [00:00<00:00, 175694.62it/s]\n",
      "100%|██████████| 8551/8551 [00:00<00:00, 172224.91it/s]\n"
     ]
    },
    {
     "name": "stdout",
     "output_type": "stream",
     "text": [
      "stopword_list:               precision    recall  f1-score   support\n",
      "\n",
      "           0       0.85      0.84      0.84      4485\n",
      "           1       0.82      0.84      0.83      4066\n",
      "\n",
      "    accuracy                           0.84      8551\n",
      "   macro avg       0.84      0.84      0.84      8551\n",
      "weighted avg       0.84      0.84      0.84      8551\n",
      "\n"
     ]
    },
    {
     "name": "stderr",
     "output_type": "stream",
     "text": [
      "100%|██████████| 19952/19952 [00:00<00:00, 175311.47it/s]\n",
      "100%|██████████| 8551/8551 [00:00<00:00, 178382.93it/s]\n",
      "100%|██████████| 19952/19952 [00:00<00:00, 215443.59it/s]\n",
      "100%|██████████| 8551/8551 [00:00<00:00, 333530.11it/s]\n"
     ]
    },
    {
     "name": "stdout",
     "output_type": "stream",
     "text": [
      "All kwargs set to False:\n",
      "              precision    recall  f1-score   support\n",
      "\n",
      "           0       0.85      0.84      0.84      4485\n",
      "           1       0.82      0.83      0.83      4066\n",
      "\n",
      "    accuracy                           0.83      8551\n",
      "   macro avg       0.83      0.83      0.83      8551\n",
      "weighted avg       0.83      0.83      0.83      8551\n",
      "\n"
     ]
    },
    {
     "data": {
      "image/png": "[encoded data removed]",
      "text/plain": [
       "<Figure size 1200x600 with 1 Axes>"
      ]
     },
     "metadata": {},
     "output_type": "display_data"
    }
   ],
   "source": [
    "# Check the effects of every text normalization parameter on the model performance\n",
    "\n",
    "import inspect\n",
    "\n",
    "# Get the signature of the function\n",
    "sig = inspect.signature(text_pre_processor)\n",
    "\n",
    "# Get the keyword arguments (parameters with default values)\n",
    "kwargs = {k: v.default for k, v in sig.parameters.items() if v.default is not inspect.Parameter.empty}\n",
    "\n",
    "# Iterate over the keyword arguments\n",
    "for arg, default in kwargs.items():\n",
    "    print(f\"{arg}: {default}\")\n",
    "\n",
    "all_false_kwargs = {k: False for k in kwargs}\n",
    "\n",
    "# Ensure exclude_chars is set to its default string value, not False\n",
    "all_false_kwargs['exclude_chars'] = kwargs['exclude_chars']\n",
    "all_false_kwargs['text_lemmatization'] = False  # lemmatization is slow\n",
    "all_false_kwargs['stopword_list'] = None  # stopword_list is None by default\n",
    "\n",
    "av_accuracy = {} # average accuracy for each parameter setting\n",
    "\n",
    "for arg, default in kwargs.items():\n",
    "    \n",
    "    # Skip the 'text_lemmatization' argument since it is slow\n",
    "    if arg in ['text_lemmatization', 'stopword_list' 'exclude_chars']:\n",
    "        print(f\"{arg}: Skipped (slow)\")\n",
    "        continue\n",
    "    print(f\"{arg}: True\")\n",
    "\n",
    "    # Set all default kwargs, but override the current arg to True\n",
    "    test_kwargs = all_false_kwargs.copy()\n",
    "    test_kwargs[arg] = True\n",
    "\n",
    "    norm_train = corpus_pre_processor(X_train, **test_kwargs)\n",
    "    norm_test = corpus_pre_processor(X_test, **test_kwargs)\n",
    "\n",
    "    # build TFIDF features on train\n",
    "    ngram_range = (1, 1)  # unigrams and bigrams\n",
    "    tv = TfidfVectorizer(use_idf=True, min_df=1, max_df=1.0, ngram_range=ngram_range,\n",
    "                        sublinear_tf=True)\n",
    "                        \n",
    "    tv_train_features = tv.fit_transform(norm_train)\n",
    "    tv_test_features = tv.transform(norm_test)\n",
    "\n",
    "    # train a logistic regression model\n",
    "    lr = LogisticRegression(penalty='l2', max_iter=5000, C=1,\n",
    "                            solver='lbfgs', random_state=42)\n",
    "\n",
    "    lr.fit(tv_train_features, y_train)\n",
    "\n",
    "    # predict on test data\n",
    "    lr_bow_predictions = lr.predict(tv_test_features)\n",
    "\n",
    "    labels = ['negative', 'positive']\n",
    "    print(f\"{arg}: {classification_report(y_test, lr_bow_predictions)}\")\n",
    "    av_accuracy[arg] = lr.score(tv_test_features, y_test)\n",
    "\n",
    "# All parameters set to False\n",
    "norm_train = corpus_pre_processor(X_train, **all_false_kwargs)\n",
    "norm_test = corpus_pre_processor(X_test, **all_false_kwargs)\n",
    "# All parameters set to False\n",
    "# Additional iteration: set all kwargs to False (except text_lemmatization)\n",
    "all_false_kwargs = {k: False for k in kwargs}\n",
    "all_false_kwargs['text_lemmatization'] = False  # lemmatization is slow\n",
    "\n",
    "norm_train = corpus_pre_processor(X_train, **all_false_kwargs)\n",
    "norm_test = corpus_pre_processor(X_test, **all_false_kwargs)\n",
    "\n",
    "# build TFIDF features on train\n",
    "tv = TfidfVectorizer(use_idf=True, min_df=5, max_df=1.0, ngram_range=ngram_range, sublinear_tf=True)\n",
    "tv_train_features = tv.fit_transform(norm_train)\n",
    "tv_test_features = tv.transform(norm_test)\n",
    "\n",
    "# train a logistic regression model\n",
    "lr = LogisticRegression(penalty='l2', max_iter=5000, C=1, solver='lbfgs', random_state=42)\n",
    "lr.fit(tv_train_features, y_train)\n",
    "\n",
    "# predict on test data\n",
    "lr_bow_predictions = lr.predict(tv_test_features)\n",
    "\n",
    "labels = ['negative', 'positive']\n",
    "print('All kwargs set to False:')\n",
    "print(classification_report(y_test, lr_bow_predictions))\n",
    "av_accuracy['all_false'] = lr.score(tv_test_features, y_test)\n",
    "\n",
    "# Plot the average accuracy for each parameter setting\n",
    "plt.figure(figsize=(12, 6))\n",
    "plt.bar(av_accuracy.keys(), av_accuracy.values(), color='skyblue')\n",
    "plt.xlabel('Parameter Setting')\n",
    "plt.ylabel('Average Accuracy')\n",
    "plt.title('Average Accuracy for Each Parameter Setting')\n",
    "plt.xticks(rotation=45)\n",
    "plt.tight_layout()\n",
    "plt.show()\n",
    "    "
   ]
  },
  {
   "cell_type": "code",
   "execution_count": 29,
   "metadata": {},
   "outputs": [
    {
     "data": {
      "text/plain": [
       "{'zero_width_spaces_removal': 0.8389662027833003,\n",
       " 'html_strip': 0.8389662027833003,\n",
       " 'accented_char_removal': 0.8388492573967957,\n",
       " 'contraction_expansion': 0.8413051105133903,\n",
       " 'separate_quotesQ': 0.8389662027833003,\n",
       " 'text_lower_case': 0.8389662027833003,\n",
       " 'special_char_removal': 0.8390831481698047,\n",
       " 'exclude_chars': 0.8389662027833003,\n",
       " 'remove_digits': 0.8389662027833003,\n",
       " 'stopword_removal': 0.7946439012980938,\n",
       " 'stopword_list': 0.8389662027833003,\n",
       " 'all_false': 0.8346392234826336}"
      ]
     },
     "execution_count": 29,
     "metadata": {},
     "output_type": "execute_result"
    }
   ],
   "source": [
    "av_accuracy"
   ]
  },
  {
   "cell_type": "markdown",
   "metadata": {},
   "source": [
    "## TFIDF and LR"
   ]
  },
  {
   "cell_type": "code",
   "execution_count": 122,
   "metadata": {},
   "outputs": [
    {
     "name": "stderr",
     "output_type": "stream",
     "text": [
      "  0%|          | 0/28503 [00:00<?, ?it/s]/var/folders/qt/8nh0yrjj4q5dvgzzdm8s9j_40000gn/T/ipykernel_4246/3951685545.py:18: MarkupResemblesLocatorWarning: The input looks more like a filename than markup. You may want to open this file and pass the filehandle into Beautiful Soup.\n",
      "  soup = BeautifulSoup(text, \"html.parser\")\n",
      "100%|██████████| 28503/28503 [00:00<00:00, 29823.25it/s]\n"
     ]
    }
   ],
   "source": [
    "X_ = corpus_pre_processor_1(X)"
   ]
  },
  {
   "cell_type": "markdown",
   "metadata": {},
   "source": [
    "### TFIDF before train-test split (experiment!)\n",
    "\n",
    "* Use all vocabulary from the data to encode all sample\n",
    "* Avoiding many cases new vocabulary on shown in the test set\n",
    "* Only for experiment: but it does not improve the accuracy"
   ]
  },
  {
   "cell_type": "markdown",
   "metadata": {},
   "source": [
    "#### Default tokenizer_pattern"
   ]
  },
  {
   "cell_type": "code",
   "execution_count": null,
   "metadata": {},
   "outputs": [
    {
     "name": "stderr",
     "output_type": "stream",
     "text": [
      "  0%|          | 0/28503 [00:00<?, ?it/s]/var/folders/qt/8nh0yrjj4q5dvgzzdm8s9j_40000gn/T/ipykernel_4246/3951685545.py:18: MarkupResemblesLocatorWarning: The input looks more like a filename than markup. You may want to open this file and pass the filehandle into Beautiful Soup.\n",
      "  soup = BeautifulSoup(text, \"html.parser\")\n",
      "100%|██████████| 28503/28503 [00:00<00:00, 31064.24it/s]\n"
     ]
    },
    {
     "name": "stdout",
     "output_type": "stream",
     "text": [
      "Why is it not the whole vocabulary? (38234) Because of token_pattern\n",
      "(28503, 26273)\n",
      "              precision    recall  f1-score   support\n",
      "\n",
      "           0     0.8557    0.8395    0.8475      4485\n",
      "           1     0.8265    0.8438    0.8351      4066\n",
      "\n",
      "    accuracy                         0.8415      8551\n",
      "   macro avg     0.8411    0.8416    0.8413      8551\n",
      "weighted avg     0.8418    0.8415    0.8416      8551\n",
      "\n"
     ]
    }
   ],
   "source": [
    "ngram_range = (1, 1)  # unigrams and bigrams\n",
    "\n",
    "# Build TFIDF features on train\n",
    "# Small max_df removal of common words; Removing common words decreases accuracy\n",
    "# max_df = 0.2, removing a few 2 common words (acc=0.84)\n",
    "# max_df = 0.15, removing 30 common words (acc=0.82)\n",
    "# the removal of common words (in the data) by max_df is different from Stopword Removal based on the language\n",
    "# the default 'token_pattern' in TfidfVectorizer excludes single-character tokens\n",
    "\n",
    "tv = TfidfVectorizer(use_idf=True, min_df=0.0, max_df=1.0, ngram_range=ngram_range,\n",
    "                     sublinear_tf=True,\n",
    "                     #token_pattern=r'(?u)\\b\\w+\\b'\n",
    "                     )  # include single-character tokens\n",
    "\n",
    "tv_X_features = tv.fit_transform(X_)\n",
    "print('Why is it not the whole vocabulary? (38234)', 'Because of token_pattern')\n",
    "print(tv_X_features.shape)\n",
    "\n",
    "# Train-test split again\n",
    "tv_train_features, tv_test_features, y_train, y_test = train_test_split(tv_X_features, y,\n",
    "                                                    test_size=0.3,\n",
    "                                                    random_state=42,\n",
    "                                                    stratify=y)\n",
    "\n",
    "\n",
    "# Logistic Regression model on BOW features\n",
    "lr = LogisticRegression(penalty='l2', max_iter=5000, C=1, solver='lbfgs', random_state=42)\n",
    "lr.fit(tv_train_features, y_train)\n",
    "lr_bow_predictions = lr.predict(tv_test_features)\n",
    "\n",
    "labels = ['negative', 'positive']\n",
    "print(classification_report(y_test, lr_bow_predictions, digits=4))\n",
    "pd.DataFrame(confusion_matrix(y_test, lr_bow_predictions), index=labels, columns=labels)\n",
    "\n",
    "av_accuracy['utfTok_Tfid_ttSplit'] = lr.score(tv_test_features, y_test)\n"
   ]
  },
  {
   "cell_type": "code",
   "execution_count": 113,
   "metadata": {},
   "outputs": [
    {
     "name": "stdout",
     "output_type": "stream",
     "text": [
      "['00' '000' '00000000001' '00003' '000th' '025' '03' '047' '071' '10'\n",
      " '100' '100th' '102' '103' '104' '105' '106' '107' '108' '109' '10th'\n",
      " '10ths' '11' '110' '1106' '112' '112th' '113' '113th' '114' '115' '116'\n",
      " '117' '11717' '118' '11th' '12' '120' '122' '125' '12th' '13' '130' '134'\n",
      " '135' '137' '138' '13th' '14' '140' '141' '142' '145' '146' '147' '149th'\n",
      " '14th' '15' '150' '155th' '156' '1580s' '159' '15s' '15th' '16' '160'\n",
      " '161' '163' '165' '16th' '17' '170' '172' '1743' '175' '1776' '17th' '18'\n",
      " '180' '1822' '1850' '186' '1861' '1893' '18th' '19' '1913' '1914' '1915'\n",
      " '1919' '1927' '1928' '193' '1930s' '1933' '1937' '1939' '194' '1940']\n",
      "['youthful' 'youths' 'youtube' 'youtuber' 'yowling' 'yuan' 'yuletide'\n",
      " 'yup' 'yutu' 'zaatari' 'zac' 'zach' 'zachary' 'zack' 'zaeefeh' 'zagat'\n",
      " 'zagitova' 'zaire' 'zakaria' 'zales' 'zalman' 'zalmay' 'zambia' 'zamboni'\n",
      " 'zandt' 'zangief' 'zanjeer' 'zany' 'zapp' 'zappa' 'zapper' 'zappos'\n",
      " 'zara' 'zarin' 'zawahiri' 'zayn' 'zbt' 'zealand' 'zealot' 'zebra'\n",
      " 'zebras' 'zedd' 'zee' 'zeev' 'zehnder' 'zeke' 'zell' 'zellweger' 'zen'\n",
      " 'zendaya' 'zenefits' 'zenith' 'zenzinger' 'zero' 'zest' 'zestitos' 'zeta'\n",
      " 'zeus' 'zhang' 'zika' 'zimbabwe' 'zimmerman' 'zinc' 'zinfandel' 'zinger'\n",
      " 'zinke' 'zinn' 'zinnias' 'zion' 'zionism' 'zionist' 'zip' 'zipline'\n",
      " 'ziplines' 'zipping' 'zippori' 'zips' 'zissu' 'ziyi' 'zod' 'zodiac' 'zoe'\n",
      " 'zoetrope' 'zogby' 'zohan' 'zombie' 'zone' 'zones' 'zoning' 'zoo'\n",
      " 'zookeeper' 'zoolander' 'zoologist' 'zoologists' 'zoomed'\n",
      " 'zoroastrianism' 'zsa' 'zucker' 'zuckerberg' 'zz']\n",
      "['goatee' 'goats' 'gobble' 'gobbler' 'gobi' 'goblet' 'goblin' 'god'\n",
      " 'goddam' 'goddamn' 'goddamned' 'goddess' 'godfather' 'godmother'\n",
      " 'godparent' 'gods' 'goer' 'goers' 'goes' 'gofundme' 'gogh' 'gogo' 'gohil'\n",
      " 'gohmert' 'going' 'goiter' 'gold' 'goldberg' 'goldblum' 'golden'\n",
      " 'goldfish' 'goldie' 'goldman' 'goldstein' 'golem' 'golf' 'golfing'\n",
      " 'goliath' 'golin' 'gomez' 'gondola' 'gondolier' 'gone' 'goner' 'gonzaga'\n",
      " 'gonzalez' 'good' 'goodbye' 'goode' 'goodell' 'goodfellas' 'goodie'\n",
      " 'goodies' 'gooding' 'goodlatte' 'goodman' 'goodness' 'goodnight' 'goods'\n",
      " 'goodwill' 'goody' 'goodyear' 'gooey' 'goof' 'goofball' 'goofs' 'goofy'\n",
      " 'google' 'googlers' 'googles' 'googling' 'goon' 'goonies' 'goons' 'goop'\n",
      " 'goose' 'goosebumps' 'gop' 'goper' 'gopers' 'gopro' 'gopsongsaboutethics'\n",
      " 'gorbachev' 'gordon' 'gore' 'gored' 'gorge' 'gorgeous' 'gorilla'\n",
      " 'gorillagram' 'gorillas' 'gorka' 'gornick' 'gorsky' 'gorsuch' 'gorton'\n",
      " 'gory' 'gosling' 'gospel' 'gosselaar']\n",
      "['roofs' 'rooftop' 'rooftops' 'rookie' 'rookies' 'room' 'roomba' 'roomie'\n",
      " 'roommate' 'roommates' 'rooms' 'rooney' 'roosevelt' 'roost' 'root'\n",
      " 'rooted' 'rooting' 'roots' 'rope' 'roped' 'ropes' 'rory' 'rosa'\n",
      " 'rosalynn' 'rosamund' 'rosaries' 'rosario' 'rosary' 'roscoe' 'rose'\n",
      " 'roseanne' 'roseburg' 'rosemary' 'rosenstein' 'rosenthal' 'roses'\n",
      " 'rosetta' 'rosh' 'rosie' 'roske' 'ross' 'rossdale' 'rossi' 'rossini'\n",
      " 'rosswood' 'roster' 'rosy' 'rotary' 'rotate' 'rotated' 'rotates'\n",
      " 'rotating' 'rotation' 'roth' 'rotisseries' 'rotten' 'rotting' 'rotund'\n",
      " 'roudup' 'rouge' 'rough' 'roughed' 'roughly' 'rouhani' 'roulette' 'round'\n",
      " 'roundabout' 'roundabouts' 'rounded' 'rounding' 'rounds' 'roundup'\n",
      " 'rourke' 'rouseff' 'rousey' 'rousing' 'rousseff' 'route' 'routes'\n",
      " 'routine' 'routines' 'rove' 'rover' 'row' 'rowboat' 'rowdy' 'rowers'\n",
      " 'rowland' 'rowling' 'rows' 'roxane' 'roy' 'royal' 'royals' 'royalties'\n",
      " 'royce' 'rpg' 'rs' 'rsvps' 'rub']\n"
     ]
    }
   ],
   "source": [
    "print(tv.get_feature_names_out()[:100])  # first 100 features\n",
    "print(tv.get_feature_names_out()[-100:])  # last 100 features\n",
    "print(tv.get_feature_names_out()[10000:10100])  # 1000-1020 features\n",
    "print(tv.get_feature_names_out()[20000:20100])  # 20000-20020 features"
   ]
  },
  {
   "cell_type": "markdown",
   "metadata": {},
   "source": [
    "#### Global vocabulary, split, Tfidf"
   ]
  },
  {
   "cell_type": "code",
   "execution_count": null,
   "metadata": {},
   "outputs": [
    {
     "name": "stderr",
     "output_type": "stream",
     "text": [
      "  0%|          | 0/28503 [00:00<?, ?it/s]/var/folders/qt/8nh0yrjj4q5dvgzzdm8s9j_40000gn/T/ipykernel_4246/3951685545.py:18: MarkupResemblesLocatorWarning: The input looks more like a filename than markup. You may want to open this file and pass the filehandle into Beautiful Soup.\n",
      "  soup = BeautifulSoup(text, \"html.parser\")\n",
      "100%|██████████| 28503/28503 [00:00<00:00, 31868.58it/s]\n"
     ]
    }
   ],
   "source": [
    "# X_ = corpus_pre_processor(X,\n",
    "#                        zero_width_spaces_removal=True, html_strip=False,  non_english_removal=True, \n",
    "#                        placeholder='<FOREIGN>',\n",
    "#                        accented_char_removal=True, contraction_expansion=True,\n",
    "#                        text_lower_case=True, text_lemmatization=False,\n",
    "#                        special_char_removal=False, exclude_chars='\\'\\\"-{}<>', remove_digits=True, \n",
    "#                        stopword_removal=False,\n",
    "#                        stopword_list=None)\n",
    "\n",
    "#X_ = corpus_pre_processor_1(X)"
   ]
  },
  {
   "cell_type": "code",
   "execution_count": null,
   "metadata": {},
   "outputs": [
    {
     "name": "stdout",
     "output_type": "stream",
     "text": [
      "['zoetrope', 'zogby', 'zohan', 'zombie', 'zone', 'zones', 'zoning', 'zoo', 'zookeeper', 'zoolander', 'zoologist', 'zoologists', 'zoomed', 'zoroastrianism', 'zsa', 'zucker', 'zuckerberg', 'zz', '{', '}']\n",
      "Total unique words: 26385\n",
      "(19952, 26385)\n",
      "              precision    recall  f1-score   support\n",
      "\n",
      "           0     0.8549    0.8395    0.8471      4485\n",
      "           1     0.8264    0.8428    0.8345      4066\n",
      "\n",
      "    accuracy                         0.8411      8551\n",
      "   macro avg     0.8406    0.8412    0.8408      8551\n",
      "weighted avg     0.8413    0.8411    0.8411      8551\n",
      "\n"
     ]
    }
   ],
   "source": [
    "# 1. Get all unique words from the normalized data\n",
    "all_tokens = [word for doc in X_ for word in doc.split()]\n",
    "unique_words = sorted(set(all_tokens))  # sorted for reproducibility\n",
    "print(unique_words[-20:])  # print first 10 unique words for brevity\n",
    "print(f\"Total unique words: {len(unique_words)}\")\n",
    "\n",
    "# The raw vocabulary from X=df['headline'] contains some:\n",
    "# '\\u200bmocked', '\\u200bmummies', '\\u200breport:', '–', '—', '―', '“a', '“drain', '“many', '“the', '“war']\n",
    "# \\u200b is a zero-width space character, often used in text to create invisible spaces\n",
    "# '-' different Unicode dash characters\n",
    "\n",
    "# 2. Create a vocabulary dictionary for TfidfVectorizer\n",
    "vocab_dict = {word: idx for idx, word in enumerate(unique_words)}\n",
    "\n",
    "# 3. Create a TfidfVectorizer with the custom vocabulary\n",
    "ngram_range = (1, 1)  # unigrams and bigrams\n",
    "\n",
    "# 4. Train-test split again\n",
    "norm_train, norm_test, y_train, y_test = train_test_split(X_, y,\n",
    "                                                    test_size=0.3,\n",
    "                                                    random_state=42,\n",
    "                                                    stratify=y)\n",
    "\n",
    "# build TFIDF features on train\n",
    "tv = TfidfVectorizer(vocabulary=vocab_dict, \n",
    "                     use_idf=True, min_df=1, max_df=1.0, ngram_range=ngram_range,\n",
    "                     sublinear_tf=True,\n",
    "                     ) # ngram_range=(1, 2) not applied because of the vocabulary\n",
    "                     \n",
    "tv_train_features = tv.fit_transform(norm_train)\n",
    "print(tv_train_features.shape)\n",
    "tv_test_features = tv.transform(norm_test)\n",
    "\n",
    "\n",
    "# Logistic Regression model on BOW features\n",
    "# instantiate model\n",
    "lr = LogisticRegression(penalty='l2', max_iter=5000, C=1,\n",
    "                        solver='lbfgs', random_state=42)\n",
    "# train model\n",
    "lr.fit(tv_train_features, y_train)\n",
    "# predict on test data\n",
    "lr_bow_predictions = lr.predict(tv_test_features)\n",
    "\n",
    "labels = ['negative', 'positive']\n",
    "print(classification_report(y_test, lr_bow_predictions, digits=4))\n",
    "\n",
    "av_accuracy['utfTok_gobVoc_ttSplit_Tfid'] = lr.score(tv_test_features, y_test)\n"
   ]
  },
  {
   "cell_type": "code",
   "execution_count": 134,
   "metadata": {},
   "outputs": [
    {
     "name": "stdout",
     "output_type": "stream",
     "text": [
      "['!' '\"' '#' '$' '%' '&' \"'\" '(' ')' '*@@' '*nsync' '*you*' '+' ',' '-'\n",
      " '.' '/' '0' '00' '000' '00000000001' '00003' '000th' '025' '03' '047'\n",
      " '071' '1' '1/2' '1/5' '10' '100' '100th' '102' '103' '104' '105' '106'\n",
      " '107' '108' '109' '10th' '11' '110' '1106' '112' '112th' '113' '113th'\n",
      " '114' '115' '116' '117' '11717' '118' '11th' '12' '12/20' '120' '122'\n",
      " '125' '12th' '13' '130' '134' '135' '137' '138' '13th' '14' '140' '141'\n",
      " '142' '145' '146' '147' '149th' '14th' '15' '150' '155th' '156' '1580s'\n",
      " '159' '15s' '15th' '16' '160' '161' '163' '165' '16th' '17' '170' '172'\n",
      " '1743' '175' '1776' '17th' '18']\n",
      "['youtuber' 'yowling' 'yuan' 'yuletide' 'yup' 'yutu' 'z' 'zaatari' 'zac'\n",
      " 'zach' 'zachary' 'zack' 'zaeefeh' 'zagat' 'zagitova' 'zaire' 'zakaria'\n",
      " 'zales' 'zalman' 'zalmay' 'zambia' 'zamboni' 'zandt' 'zangief' 'zanjeer'\n",
      " 'zany' 'zapp' 'zappa' 'zapper' 'zappos' 'zara' 'zarin' 'zawahiri' 'zayn'\n",
      " 'zbt' 'zealand' 'zealot' 'zebra' 'zebras' 'zedd' 'zee' 'zeev' 'zehnder'\n",
      " 'zeke' 'zell' 'zellweger' 'zen' 'zendaya' 'zenefits' 'zenith' 'zenzinger'\n",
      " 'zero' 'zest' 'zestitos' 'zeta' 'zeus' 'zhang' 'zika' 'zimbabwe'\n",
      " 'zimmerman' 'zinc' 'zinfandel' 'zinger' 'zinke' 'zinn' 'zinnias' 'zion'\n",
      " 'zionism' 'zionist' 'zip' 'zipline' 'ziplines' 'zipping' 'zippori' 'zips'\n",
      " 'zissu' 'ziyi' 'zod' 'zodiac' 'zoe' 'zoetrope' 'zogby' 'zohan' 'zombie'\n",
      " 'zone' 'zones' 'zoning' 'zoo' 'zookeeper' 'zoolander' 'zoologist'\n",
      " 'zoologists' 'zoomed' 'zoroastrianism' 'zsa' 'zucker' 'zuckerberg' 'zz'\n",
      " '{' '}']\n",
      "['glade' 'gladiator' 'gladness' 'gladwell' 'gladys' 'glam' 'glamorize'\n",
      " 'glamorous' 'glamour' 'glance' 'glands' 'glandular' 'glasgow' 'glass'\n",
      " 'glassdoor' 'glasses' 'glaxosmithkline' 'glaze' 'glazed' 'glazer' 'glee'\n",
      " 'gleeful' 'gleefully' 'gleeson' 'glenbrook' 'glenn' 'glider' 'glimmer'\n",
      " 'glimpse' 'glimpses' 'glint' 'glistening' 'glitch' 'glitter' 'gloating'\n",
      " 'glob' 'global' 'globalist' 'globally' 'globe' 'globes' 'globetrotters'\n",
      " 'globs' 'gloomy' 'gloria' 'glorifying' 'glorious' 'gloriously' 'glory'\n",
      " 'gloss' 'glosses' 'glossip' 'gloved' 'glover' 'gloves' 'glow' 'glowed'\n",
      " 'glowing' 'glows' 'glue' 'glued' 'gluten' 'gm' 'gma' 'gmail' 'gmo' 'gnar'\n",
      " 'gnarled' 'go' 'goal' 'goalposts' 'goals' 'goat' 'goatee' 'goats'\n",
      " 'gobble' 'gobbler' 'gobi' 'goblet' 'goblin' 'god' 'goddam' 'goddamn'\n",
      " 'goddamned' 'goddess' 'godfather' 'godmother' 'godparent' 'gods' 'goer'\n",
      " 'goers' 'goes' 'gofundme' 'gogh' 'gogo' 'gohil' 'gohmert' 'going'\n",
      " 'goiter' 'gold']\n",
      "['robotics' 'robotrix' 'robots' 'robs' 'robust' 'rock' 'rockatansky'\n",
      " 'rocked' 'rockefeller' 'rocker' 'rockers' 'rocket' 'rocketman' 'rockets'\n",
      " 'rockette' 'rockford' 'rockin' 'rocking' 'rocks' 'rockstar' 'rocksteady'\n",
      " 'rockwell' 'rocky' 'rod' 'roddick' 'rode' 'rodent' 'rodents' 'rodeo'\n",
      " 'rodgers' 'rodham' 'rodney' 'rodrigo' 'rodriguez' 'roe' 'roebuck' 'roem'\n",
      " 'rogen' 'roger' 'rogers' 'rogue' 'roh' 'rohingya' 'rohit' 'rohypnol'\n",
      " 'roiling' 'roils' 'roker' 'roland' 'role' 'roles' 'rolex' 'rolie' 'roll'\n",
      " 'rollback' 'rolled' 'roller' 'rollerball' 'rollerblading' 'rollercoaster'\n",
      " 'rollers' 'rolling' 'rollins' 'rollout' 'rolls' 'rolos' 'rom' 'roma'\n",
      " 'roman' 'romance' 'romances' 'romania' 'romanian' 'romano' 'romans'\n",
      " 'romantic' 'romantically' 'romanticized' 'rome' 'romeo' 'romero' 'rommel'\n",
      " 'romney' 'romp' 'romper' 'ron' 'ronald' 'ronaldo' 'ronco' 'ronda'\n",
      " 'ronnie' 'ronson' 'roof' 'roofer' 'roofs' 'rooftop' 'rooftops' 'rookie'\n",
      " 'rookies' 'room']\n"
     ]
    }
   ],
   "source": [
    "print(tv.get_feature_names_out()[:100])  # first 100 features\n",
    "print(tv.get_feature_names_out()[-100:])  # last 100 features\n",
    "print(tv.get_feature_names_out()[10000:10100])  # 1000-1020 features\n",
    "print(tv.get_feature_names_out()[20000:20100])  # 20000-20020 features"
   ]
  },
  {
   "cell_type": "code",
   "execution_count": 135,
   "metadata": {},
   "outputs": [
    {
     "name": "stdout",
     "output_type": "stream",
     "text": [
      "(19952, 22437)\n",
      "              precision    recall  f1-score   support\n",
      "\n",
      "           0     0.8599    0.8482    0.8540      4485\n",
      "           1     0.8350    0.8475    0.8412      4066\n",
      "\n",
      "    accuracy                         0.8479      8551\n",
      "   macro avg     0.8474    0.8478    0.8476      8551\n",
      "weighted avg     0.8480    0.8479    0.8479      8551\n",
      "\n"
     ]
    }
   ],
   "source": [
    "# build TFIDF features on train\n",
    "tv = TfidfVectorizer(#vocabulary=vocab_dict, \n",
    "                     use_idf=True, min_df=1, max_df=1.0, ngram_range=ngram_range,\n",
    "                     sublinear_tf=True,\n",
    "                     analyzer='word',\n",
    "                     token_pattern=r'(?u)\\b\\w+\\b' # without voc with this pattern, acc.= 0.8479\n",
    "                     ) # ngram_range=(1, 2) not applied because of the vocabulary\n",
    "                     \n",
    "tv_train_features = tv.fit_transform(norm_train)\n",
    "print(tv_train_features.shape)\n",
    "tv_test_features = tv.transform(norm_test)\n",
    "\n",
    "# Logistic Regression model on BOW features\n",
    "# instantiate model\n",
    "lr = LogisticRegression(penalty='l2', max_iter=5000, C=1,\n",
    "                        solver='lbfgs', random_state=42)\n",
    "# train model\n",
    "lr.fit(tv_train_features, y_train)\n",
    "# predict on test data\n",
    "lr_bow_predictions = lr.predict(tv_test_features)\n",
    "\n",
    "labels = ['negative', 'positive']\n",
    "print(classification_report(y_test, lr_bow_predictions, digits=4))"
   ]
  },
  {
   "cell_type": "code",
   "execution_count": 136,
   "metadata": {},
   "outputs": [
    {
     "name": "stdout",
     "output_type": "stream",
     "text": [
      "['0' '00' '000' '00003' '000th' '03' '047' '071' '1' '10' '100' '100th'\n",
      " '102' '103' '104' '105' '107' '109' '10th' '11' '112' '112th' '113'\n",
      " '113th' '114' '115' '116' '117' '11717' '118' '11th' '12' '120' '122'\n",
      " '125' '12th' '13' '130' '135' '137' '13th' '14' '140' '141' '145' '146'\n",
      " '147' '14th' '15' '150' '155th' '156' '159' '15th' '16' '160' '161' '163'\n",
      " '165' '16th' '17' '170' '1743' '175' '17th' '18' '180' '1822' '1850'\n",
      " '186' '1861' '1893' '18th' '19' '1913' '1914' '1915' '1919' '1927' '1928'\n",
      " '1930s' '1937' '1939' '194' '1940' '1940s' '1945' '1948' '1950s' '1960s'\n",
      " '1964' '1967' '1969' '1970' '1972' '1980' '1980s' '1981' '1982' '1983']\n",
      "['yoko' 'yolk' 'yolo' 'yom' 'yordano' 'yore' 'york' 'yorke' 'yorker'\n",
      " 'yorkers' 'yorkshire' 'yosemite' 'yoshi' 'yothers' 'you' 'young'\n",
      " 'younger' 'youngest' 'your' 'yours' 'yourself' 'yourselves' 'youssef'\n",
      " 'youth' 'youths' 'youtube' 'youtuber' 'yuan' 'yuletide' 'yup' 'z'\n",
      " 'zaatari' 'zac' 'zachary' 'zagitova' 'zales' 'zalmay' 'zamboni' 'zandt'\n",
      " 'zanjeer' 'zany' 'zapp' 'zappa' 'zapper' 'zappos' 'zara' 'zawahiri'\n",
      " 'zayn' 'zealand' 'zealot' 'zebra' 'zebras' 'zedd' 'zee' 'zeev' 'zeke'\n",
      " 'zellweger' 'zen' 'zendaya' 'zenith' 'zenzinger' 'zero' 'zest' 'zestitos'\n",
      " 'zeus' 'zika' 'zimbabwe' 'zimmerman' 'zinger' 'zinke' 'zinn' 'zinnias'\n",
      " 'zion' 'zionism' 'zip' 'zipline' 'ziplines' 'zippori' 'zips' 'zissu'\n",
      " 'zod' 'zodiac' 'zoetrope' 'zogby' 'zohan' 'zombie' 'zone' 'zones'\n",
      " 'zoning' 'zoo' 'zookeeper' 'zoolander' 'zoologist' 'zoologists' 'zoomed'\n",
      " 'zoroastrianism' 'zsa' 'zucker' 'zuckerberg' 'zz']\n",
      "['impressive' 'imprison' 'imprisoned' 'imprisoning' 'improbable'\n",
      " 'impromptu' 'improper' 'improperly' 'impropriety' 'improv' 'improve'\n",
      " 'improved' 'improvement' 'improvements' 'improves' 'improving' 'impulse'\n",
      " 'impulses' 'impulsive' 'in' 'inaccuracy' 'inaccurate' 'inaction'\n",
      " 'inactivity' 'inadequate' 'inadvertently' 'inanimate' 'inappropriate'\n",
      " 'inappropriately' 'inappropriations' 'inarticulate' 'inaugural'\n",
      " 'inauguration' 'inboxes' 'inbreeding' 'inc' 'incapable' 'incarcerated'\n",
      " 'incarceration' 'incendiary' 'incensed' 'incentives' 'incessant' 'incest'\n",
      " 'inch' 'incheon' 'inches' 'inching' 'incidences' 'incident' 'incidents'\n",
      " 'incinerating' 'incite' 'incitement' 'incites' 'inciting' 'incivility'\n",
      " 'inclement' 'incline' 'inclined' 'include' 'included' 'includes'\n",
      " 'including' 'inclusion' 'inclusions' 'inclusive' 'inclusivity'\n",
      " 'incoherent' 'incoherently' 'income' 'incoming' 'incomparable'\n",
      " 'incompatible' 'incompetent' 'incompetents' 'incomplete'\n",
      " 'incomprehensible' 'inconceivable' 'inconsiderate' 'inconsistency'\n",
      " 'inconsolable' 'inconvenience' 'inconveniences' 'inconveniencing'\n",
      " 'inconvenient' 'incorporate' 'incorrect' 'incorrectly' 'increase'\n",
      " 'increased' 'increases' 'increasing' 'increasingly' 'incredible'\n",
      " 'incredibles' 'incredibly' 'incubator' 'incubus' 'incumbency']\n",
      "['term' 'terminally' 'terminate' 'terminology' 'terms' 'terrain'\n",
      " 'terrarium' 'terri' 'terrible' 'terribly' 'terrier' 'terrific'\n",
      " 'terrified' 'terrifies' 'terrifying' 'territories' 'territory' 'terroist'\n",
      " 'terror' 'terrorism' 'terrorist' 'terrorists' 'terrorize' 'terrorized'\n",
      " 'terrorizes' 'terrorizing' 'terry' 'terse' 'tesla' 'test' 'testament'\n",
      " 'tested' 'tester' 'testers' 'testicles' 'testifies' 'testify'\n",
      " 'testifying' 'testimony' 'testing' 'tests' 'texan' 'texans' 'texas'\n",
      " 'text' 'textbook' 'texters' 'texting' 'texts' 'textured' 'tff' 'thai'\n",
      " 'thailand' 'thalia' 'than' 'thandie' 'thang' 'thank' 'thanked' 'thankful'\n",
      " 'thankfully' 'thanking' 'thanks' 'thanksgiving' 'that' 'thatcher' 'thaw'\n",
      " 'the' 'theall' 'theater' 'theaters' 'theatre' 'theblaze' 'theft' 'their'\n",
      " 'them' 'theme' 'themed' 'themeless' 'themes' 'themselves' 'then'\n",
      " 'theodore' 'theological' 'theology' 'theoretical' 'theories' 'theorist'\n",
      " 'theorists' 'theorize' 'theory' 'therapies' 'therapist' 'therapists'\n",
      " 'therapy' 'there' 'thereisaidit' 'theresa' 'thermo' 'thermometer']\n"
     ]
    }
   ],
   "source": [
    "print(tv.get_feature_names_out()[:100])  # first 100 features\n",
    "print(tv.get_feature_names_out()[-100:])  # last 100 features\n",
    "print(tv.get_feature_names_out()[10000:10100])  # 1000-1020 features\n",
    "print(tv.get_feature_names_out()[20000:20100])  # 20000-20020 features"
   ]
  },
  {
   "cell_type": "code",
   "execution_count": 126,
   "metadata": {},
   "outputs": [
    {
     "name": "stdout",
     "output_type": "stream",
     "text": [
      "Original: winchester unveils new 9mm stray bullet guaranteed to hit innocent bystanders\n",
      "Processed: winchester unveils new 9mm stray bullet guaranteed to hit innocent bystanders\n",
      "\n",
      "Original: lemur fantasizes about ripping face off next dumbshit who calls it a monkey\n",
      "Processed: lemur fantasizes about ripping face off next dumbshit who calls it a monkey\n",
      "\n",
      "Original: voters in 14 states navigating new rules while trying to cast ballots\n",
      "Processed: voters in 14 states navigating new rules while trying to cast ballots\n",
      "\n",
      "Original: bts just became the first k-pop band to go gold\n",
      "Processed: bts just became the first k - pop band to go gold\n",
      "\n",
      "Original: are you the artist...or the masterpiece?\n",
      "Processed: are you the artist . . . or the masterpiece ?\n",
      "\n"
     ]
    }
   ],
   "source": [
    "for i in np.random.randint(0, len(X_), size=5):\n",
    "    print(f\"Original: {X.iloc[i]}\")\n",
    "    print(f\"Processed: {X_[i]}\")\n",
    "    print()"
   ]
  },
  {
   "cell_type": "markdown",
   "metadata": {},
   "source": [
    "### Train-test split before TFIDF"
   ]
  },
  {
   "cell_type": "markdown",
   "metadata": {},
   "source": [
    "#### Default token_pattern"
   ]
  },
  {
   "cell_type": "code",
   "execution_count": 138,
   "metadata": {},
   "outputs": [],
   "source": [
    "norm_train, norm_test, y_train, y_test = train_test_split(X_, y,\n",
    "                                                    test_size=0.3,\n",
    "                                                    random_state=42,\n",
    "                                                    stratify=y)"
   ]
  },
  {
   "cell_type": "code",
   "execution_count": null,
   "metadata": {},
   "outputs": [
    {
     "name": "stdout",
     "output_type": "stream",
     "text": [
      "(19952, 22401)\n",
      "              precision    recall  f1-score   support\n",
      "\n",
      "           0     0.8539    0.8404    0.8471      4485\n",
      "           1     0.8269    0.8414    0.8341      4066\n",
      "\n",
      "    accuracy                         0.8408      8551\n",
      "   macro avg     0.8404    0.8409    0.8406      8551\n",
      "weighted avg     0.8411    0.8408    0.8409      8551\n",
      "\n",
      "CPU times: user 804 ms, sys: 33.9 ms, total: 838 ms\n",
      "Wall time: 271 ms\n"
     ]
    }
   ],
   "source": [
    "%%time\n",
    "from sklearn.feature_extraction.text import CountVectorizer, TfidfVectorizer\n",
    "\n",
    "ngram_range = (1, 1)  # unigrams and bigrams\n",
    "\n",
    "# build TFIDF features on train\n",
    "tv = TfidfVectorizer(use_idf=True, min_df=1, max_df=1.0, ngram_range=ngram_range,\n",
    "                     sublinear_tf=True)\n",
    "                     \n",
    "tv_train_features = tv.fit_transform(norm_train)\n",
    "print(tv_train_features.shape)\n",
    "\n",
    "# transform test reviews into features\n",
    "# we use .transform(..) and NOT .fit_transform(..)\n",
    "# to use vocabulary learnt during training data as our features\n",
    "tv_test_features = tv.transform(norm_test)\n",
    "\n",
    "lr = LogisticRegression(penalty='l2', max_iter=5000, C=1,\n",
    "                        solver='lbfgs', random_state=42)\n",
    "\n",
    "lr.fit(tv_train_features, y_train)\n",
    "lr_bow_predictions = lr.predict(tv_test_features)\n",
    "\n",
    "labels = ['negative', 'positive']\n",
    "print(classification_report(y_test, lr_bow_predictions, digits=4))\n",
    "pd.DataFrame(confusion_matrix(y_test, lr_bow_predictions), index=labels, columns=labels)\n",
    "\n",
    "av_accuracy['utfTok_ttSplit_Tfidf'] = lr.score(tv_test_features, y_test)"
   ]
  },
  {
   "cell_type": "code",
   "execution_count": 141,
   "metadata": {},
   "outputs": [
    {
     "data": {
      "image/png": "[encoded data removed]",
      "text/plain": [
       "<Figure size 1200x600 with 1 Axes>"
      ]
     },
     "metadata": {},
     "output_type": "display_data"
    }
   ],
   "source": [
    "# Plot the average accuracy for each parameter setting\n",
    "plt.figure(figsize=(12, 6))\n",
    "plt.plot(av_accuracy.keys(), av_accuracy.values(), color='skyblue', marker='o')\n",
    "plt.xlabel('Parameter Setting')\n",
    "plt.ylabel('Average Accuracy')\n",
    "plt.title('Average Accuracy for Each Parameter Setting')\n",
    "plt.xticks(rotation=45)\n",
    "plt.tight_layout()\n",
    "plt.show()\n",
    "    "
   ]
  },
  {
   "cell_type": "markdown",
   "metadata": {},
   "source": [
    "## Fine tuning"
   ]
  },
  {
   "cell_type": "code",
   "execution_count": null,
   "metadata": {},
   "outputs": [],
   "source": [
    "# from sklearn.pipeline import Pipeline\n",
    "# from sklearn.model_selection import GridSearchCV\n",
    "\n",
    "# # Define the pipeline\n",
    "# pipeline = Pipeline([\n",
    "#     ('vectorizer', TfidfVectorizer(use_idf=True, sublinear_tf=True)),\n",
    "#     ('classifier', LogisticRegression(random_state=42))\n",
    "# ])\n",
    "\n",
    "# # Define the parameter grid for both vectorizer and classifier\n",
    "# param_grid = {\n",
    "#     'vectorizer__ngram_range': [(1, 1), (1, 2), (1, 3)],\n",
    "#     'vectorizer__min_df': [1, 5],\n",
    "#     'vectorizer__max_df': [0.5, 1.0],\n",
    "#     'classifier__C': [0.1, 1, 10],\n",
    "#     'classifier__penalty': ['l1', 'l2'],\n",
    "#     'classifier__solver': ['liblinear', 'saga'],\n",
    "#     'classifier__max_iter': [1000, 5000]\n",
    "# }\n",
    "\n",
    "# # Instantiate the GridSearchCV object\n",
    "# grid_search = GridSearchCV(estimator=pipeline, param_grid=param_grid, cv=3, n_jobs=-1,\n",
    "#                            scoring='accuracy', verbose=1)\n",
    "\n",
    "# # Fit the model on normalized text, not pre-vectorized features\n",
    "# grid_search.fit(norm_train, y_train)\n",
    "\n",
    "# # Get the best parameters and score\n",
    "# best_params = grid_search.best_params_\n",
    "# best_score = grid_search.best_score_\n",
    "# print(f\"Best parameters: {best_params}\")\n",
    "# print(f\"Best cross-validation score: {best_score:.4f}\")\n",
    "\n",
    "# # Predict on the test set with the best model\n",
    "# best_model = grid_search.best_estimator_\n",
    "# lr_bow_predictions = best_model.predict(norm_test)\n",
    "# labels = ['negative', 'positive']\n",
    "# print(classification_report(y_test, lr_bow_predictions))\n",
    "# print(pd.DataFrame(confusion_matrix(y_test, lr_bow_predictions), index=labels, columns=labels))"
   ]
  },
  {
   "cell_type": "markdown",
   "metadata": {},
   "source": [
    "# FastText Embedding for LR\n",
    "\n",
    "* Text normalization not helping!"
   ]
  },
  {
   "cell_type": "markdown",
   "metadata": {},
   "source": [
    "## Embedding raw and normalized data"
   ]
  },
  {
   "cell_type": "code",
   "execution_count": 150,
   "metadata": {},
   "outputs": [],
   "source": [
    "from gensim.models import FastText\n",
    "from gensim.utils import simple_preprocess, tokenize\n",
    "\n",
    "# Tokenize the documents for FastText\n",
    "# tokenized_docs = [simple_preprocess(doc) for doc in norm_corpus]\n",
    "\n",
    "# Different from simple_preprocess, tokenize does not remove punctuation and lowercases the text\n",
    "# but we have already preprocessed the corpus, so we can use a simple split for tokenization\n",
    "# Note: simple_preprocess is more suitable for raw text, while tokenize is more suitable for preprocessed text.\n",
    "\n",
    "tokenized_train = [doc.split() for doc in X_train] # Using split to tokenize by whitespace; norm_corpus is already preprocessed\n",
    "\n",
    "# ideal config params size: 300, window: 30, min_count=2 or more, iter=50 or more (use 10 if it takes too much time)\n",
    "ft_model_raw = FastText(sentences=tokenized_train, vector_size=300, window=5, min_count=2, epochs=50, sg=1)"
   ]
  },
  {
   "cell_type": "code",
   "execution_count": null,
   "metadata": {},
   "outputs": [],
   "source": [
    "from gensim.models import FastText\n",
    "from gensim.utils import simple_preprocess, tokenize\n",
    "\n",
    "tokenized_train = [doc.split() for doc in norm_train]\n",
    "ft_model_norm = FastText(sentences=tokenized_train, vector_size=300, window=5, min_count=2, epochs=50, sg=1)"
   ]
  },
  {
   "cell_type": "markdown",
   "metadata": {},
   "source": [
    "## Averaged word2vec and LR for raw and normalized"
   ]
  },
  {
   "cell_type": "code",
   "execution_count": null,
   "metadata": {},
   "outputs": [],
   "source": [
    "import numpy as np\n",
    "\n",
    "def averaged_word2vec_vectorizer(corpus, model, num_features):\n",
    "    # Initialize an empty list to hold the feature vectors\n",
    "    features = []\n",
    "    # Iterate through each document in the corpus\n",
    "    for doc in corpus:\n",
    "        # Tokenize the document\n",
    "        tokens = doc.split()\n",
    "        # Initialize a zero vector for the document\n",
    "        feature_vector = np.zeros((num_features,), dtype='float32')\n",
    "        n_words = 0\n",
    "        # Iterate through each token in the document\n",
    "        for token in tokens:\n",
    "            # If the token is in the model's vocabulary, add its vector to the feature vector\n",
    "            if token in model.wv:\n",
    "                feature_vector = np.add(feature_vector, model.wv[token])\n",
    "                n_words += 1\n",
    "        # If no words were found in the model's vocabulary, append a zero vector\n",
    "        if n_words == 0:\n",
    "            features.append(np.zeros((num_features,), dtype='float32'))\n",
    "        else:\n",
    "            # Otherwise, average the feature vector by the number of words\n",
    "            feature_vector = np.divide(feature_vector, n_words)\n",
    "            features.append(feature_vector)\n",
    "    # Convert the list of feature vectors to a NumPy array\n",
    "    features = np.array(features)\n",
    "    # Return the array of feature vectors\n",
    "    return np.array(features)"
   ]
  },
  {
   "cell_type": "code",
   "execution_count": null,
   "metadata": {},
   "outputs": [
    {
     "name": "stdout",
     "output_type": "stream",
     "text": [
      "              precision    recall  f1-score   support\n",
      "\n",
      "           0     0.8326    0.8453    0.8389      4485\n",
      "           1     0.8264    0.8126    0.8194      4066\n",
      "\n",
      "    accuracy                         0.8297      8551\n",
      "   macro avg     0.8295    0.8289    0.8292      8551\n",
      "weighted avg     0.8297    0.8297    0.8297      8551\n",
      "\n",
      "          negative  positive\n",
      "negative      3791       694\n",
      "positive       762      3304\n"
     ]
    }
   ],
   "source": [
    "# Using embedding vectors based on raw training data\n",
    "# Note: The model is trained on the raw training data, not the preprocessed one\n",
    "\n",
    "vecs_ft_train = averaged_word2vec_vectorizer(corpus=norm_train, model=ft_model_raw, num_features=300)\n",
    "vecs_ft_test = averaged_word2vec_vectorizer(corpus=norm_test, model=ft_model_raw, num_features=300)\n",
    "\n",
    "# Logistic Regression model on FastText features\n",
    "lr_ft = LogisticRegression(random_state=42)\n",
    "lr_ft.fit(vecs_ft_train, y_train)\n",
    "\n",
    "# Predict on the test set\n",
    "lr_ft_predictions = lr_ft.predict(vecs_ft_test)\n",
    "\n",
    "print(classification_report(y_test, lr_ft_predictions, digits=4))\n",
    "print(pd.DataFrame(confusion_matrix(y_test, lr_ft_predictions), index=labels, columns=labels))\n",
    "\n",
    "# The raw vocabulary from X=df['headline']"
   ]
  },
  {
   "cell_type": "code",
   "execution_count": null,
   "metadata": {},
   "outputs": [
    {
     "name": "stdout",
     "output_type": "stream",
     "text": [
      "              precision    recall  f1-score   support\n",
      "\n",
      "           0     0.8339    0.8386    0.8362      4485\n",
      "           1     0.8208    0.8158    0.8183      4066\n",
      "\n",
      "    accuracy                         0.8277      8551\n",
      "   macro avg     0.8274    0.8272    0.8273      8551\n",
      "weighted avg     0.8277    0.8277    0.8277      8551\n",
      "\n",
      "          negative  positive\n",
      "negative      3761       724\n",
      "positive       749      3317\n"
     ]
    }
   ],
   "source": [
    "# Using embedding vectors based on normalized training data\n",
    "# Note: The model is trained on the normalized training data, not the raw one\n",
    "\n",
    "vecs_ft_train = averaged_word2vec_vectorizer(corpus=norm_train, model=ft_model_norm, num_features=300)\n",
    "vecs_ft_test = averaged_word2vec_vectorizer(corpus=norm_test, model=ft_model_norm, num_features=300)\n",
    "\n",
    "# Logistic Regression model on FastText features\n",
    "lr_ft = LogisticRegression(random_state=42)\n",
    "lr_ft.fit(vecs_ft_train, y_train)\n",
    "\n",
    "# Predict on the test set\n",
    "lr_ft_predictions = lr_ft.predict(vecs_ft_test)\n",
    "\n",
    "print(classification_report(y_test, lr_ft_predictions, digits=4))\n",
    "print(pd.DataFrame(confusion_matrix(y_test, lr_ft_predictions), index=labels, columns=labels))\n",
    "\n",
    "# The raw vocabulary from X=df['headline']"
   ]
  },
  {
   "cell_type": "markdown",
   "metadata": {},
   "source": [
    "# Deep learning with learning embeddings"
   ]
  },
  {
   "cell_type": "markdown",
   "metadata": {},
   "source": [
    "## Check unique words"
   ]
  },
  {
   "cell_type": "code",
   "execution_count": 166,
   "metadata": {},
   "outputs": [
    {
     "name": "stdout",
     "output_type": "stream",
     "text": [
      "Number of unique words in the training vocabulary: 31121\n",
      "Number of unique words in the test vocabulary: 19082\n",
      "Number of unique words in the vocabulary: 38234\n",
      "Number of unique words in test but not in train: 7113\n",
      "Unique words in test but not in train: ['zipping', \"hallburton's\", \"bears'\", '4-beer', 'shaky,', 'trump/netanyahu', 'antidote', 'tiebreaker', 'optimists', 'theirs', \"'dallas\", 'prowling', \"'sad,'\", 'profusely', 'pedicure', 'instructors', 'disrupting', \"'clown\", 'slaw', 'oscar-night']\n"
     ]
    }
   ],
   "source": [
    "words_train = [word for doc in X_train for word in doc.split()]\n",
    "unique_words_train = set(words_train)\n",
    "print(f\"Number of unique words in the training vocabulary: {len(unique_words_train)}\")\n",
    "\n",
    "words_test = [word for doc in X_test for word in doc.split()]\n",
    "unique_words_test = set(words_test)\n",
    "print(f\"Number of unique words in the test vocabulary: {len(unique_words_test)}\")\n",
    "\n",
    "\n",
    "# Combine unique words from both train and test sets\n",
    "unique_words = unique_words_train.union(unique_words_test)\n",
    "print(f\"Number of unique words in the vocabulary: {len(unique_words)}\")\n",
    "\n",
    "# Unique words in test but not in train\n",
    "unique_words_in_test_not_in_train = unique_words_test - unique_words_train\n",
    "print(f\"Number of unique words in test but not in train: {len(unique_words_in_test_not_in_train)}\")\n",
    "print(f\"Unique words in test but not in train: {list(unique_words_in_test_not_in_train)[:20]}\")  # Display first 20 unique words\n"
   ]
  },
  {
   "cell_type": "markdown",
   "metadata": {},
   "source": [
    "## Sentence length distribution"
   ]
  },
  {
   "cell_type": "code",
   "execution_count": null,
   "metadata": {},
   "outputs": [
    {
     "name": "stdout",
     "output_type": "stream",
     "text": [
      "Number of unique words in the vocabulary: 38234\n"
     ]
    },
    {
     "data": {
      "image/png": "[encoded data removed]",
      "text/plain": [
       "<Figure size 500x400 with 1 Axes>"
      ]
     },
     "metadata": {},
     "output_type": "display_data"
    }
   ],
   "source": [
    "# Number of unique words in the vocabulary\n",
    "tokens = [word for doc in X for word in doc.split()]\n",
    "unique_words = set(tokens)\n",
    "print(f\"Number of unique words in the vocabulary: {len(unique_words)}\")\n",
    "\n",
    "# Plot the distribution of sentence lengths\n",
    "sentence_lengths = [len(doc.split()) for doc in norm_train]\n",
    "plt.figure(figsize=(5, 4))\n",
    "plt.hist(sentence_lengths, bins=50, color='skyblue', edgecolor='black')\n",
    "plt.title('Distribution of Sentence Lengths in Training Set')\n",
    "plt.xlabel('Sentence Length (Number of Words)')\n",
    "plt.ylabel('Frequency')\n",
    "plt.xlim(0, 50)  # Limit x-axis to 50 words for better visibility\n",
    "plt.grid(axis='y', linestyle='--', alpha=0.7)\n",
    "plt.show()"
   ]
  },
  {
   "cell_type": "markdown",
   "metadata": {},
   "source": [
    "## RNN"
   ]
  },
  {
   "cell_type": "code",
   "execution_count": 167,
   "metadata": {},
   "outputs": [],
   "source": [
    "import tensorflow as tf\n",
    "from tensorflow import keras\n",
    "from keras.callbacks import EarlyStopping"
   ]
  },
  {
   "cell_type": "code",
   "execution_count": 168,
   "metadata": {},
   "outputs": [],
   "source": [
    "# train test split\n",
    "X_train_norm, X_test_norm, y_train, y_test = train_test_split(X_, y, test_size=0.3, random_state=42, stratify=y)"
   ]
  },
  {
   "cell_type": "code",
   "execution_count": 170,
   "metadata": {},
   "outputs": [
    {
     "name": "stdout",
     "output_type": "stream",
     "text": [
      "Vocabulary size: 22498\n",
      "Sequence length: 19952\n"
     ]
    }
   ],
   "source": [
    "# Tokenization\n",
    "MAX_VOCAB_SIZE = 29000\n",
    "MAX_SEQUENCE_LENGTH = 20\n",
    "\n",
    "tokenizer = tf.keras.preprocessing.text.Tokenizer(\n",
    "    num_words=None, # Set to None to include all unique words\n",
    "    oov_token=\"<UNK>\",\n",
    "    filters=''\n",
    ")\n",
    "tokenizer.fit_on_texts(X_train_norm)\n",
    "\n",
    "# Convert to sequences and pad\n",
    "X_train_features = tf.keras.utils.pad_sequences(\n",
    "    tokenizer.texts_to_sequences(X_train_norm), maxlen=MAX_SEQUENCE_LENGTH\n",
    ")\n",
    "X_test_features = tf.keras.utils.pad_sequences(\n",
    "    tokenizer.texts_to_sequences(X_test_norm), maxlen=MAX_SEQUENCE_LENGTH\n",
    ")\n",
    "\n",
    "# Calculate vocab_size based on the full vocabulary in word_index\n",
    "vocab_size = len(tokenizer.word_index) + 1\n",
    "print(f\"Vocabulary size: {vocab_size}\")\n",
    "print(f\"Sequence length: {len(X_train_norm)}\") # Changed .shape to len()"
   ]
  },
  {
   "cell_type": "markdown",
   "metadata": {},
   "source": [
    "!wget http://nlp.stanford.edu/data/glove.6B.zip\n",
    "!unzip glove.6B.zip"
   ]
  },
  {
   "cell_type": "code",
   "execution_count": null,
   "metadata": {},
   "outputs": [],
   "source": [
    "# Pre-trained Embeddings from GloVe\n",
    "import numpy as np\n",
    "from gensim.models import KeyedVectors\n",
    "\n",
    "# Load pre-trained GloVe embeddings\n",
    "glove_file = 'glove.6B.300d.txt'  # Path to the GloVe file\n",
    "glove_model = KeyedVectors.load_word2vec_format(glove_file, binary=False, no_header=True)\n",
    "\n",
    "def create_bi_gru_model_with_glove_embeddings(embedding_matrix):\n",
    "    \"\"\"Bidirectional GRU model with pre-trained GloVe embeddings\"\"\"\n",
    "    model = keras.models.Sequential(\n",
    "        [\n",
    "            keras.layers.Embedding(\n",
    "                input_dim=embedding_matrix.shape[0],\n",
    "                output_dim=embedding_matrix.shape[1],\n",
    "                weights=[embedding_matrix],\n",
    "                trainable=False,  # Set to True if you want to fine-tune the embeddings\n",
    "            ),\n",
    "            keras.layers.Bidirectional(keras.layers.GRU(64)),\n",
    "            keras.layers.Dense(64, activation=\"relu\"),\n",
    "            keras.layers.Dense(1, activation=\"sigmoid\"),\n",
    "        ],\n",
    "        name=\"BiGRU_with_GloVe\",\n",
    "    )\n",
    "\n",
    "    model.compile(optimizer=\"adam\", loss=\"binary_crossentropy\", metrics=[\"accuracy\"])\n",
    "\n",
    "    return model\n",
    "\n",
    "# Create the embedding matrix\n",
    "def create_embedding_matrix(word_index, embedding_model):\n",
    "    embedding_dim = embedding_model.vector_size\n",
    "    embedding_matrix = np.zeros((len(word_index) + 1, embedding_dim))\n",
    "    \n",
    "    for word, i in word_index.items():\n",
    "        if word in embedding_model:\n",
    "            embedding_matrix[i] = embedding_model[word]\n",
    "    \n",
    "    return embedding_matrix\n",
    "\n",
    "# Create the embedding matrix using the GloVe model\n",
    "embedding_matrix = create_embedding_matrix(tokenizer.word_index, glove_model)\n",
    "\n",
    "# Create the Bi-GRU model with GloVe embeddings\n",
    "bi_gru_model = create_bi_gru_model_with_glove_embeddings(embedding_matrix)\n",
    "\n",
    "# Train the Bi-GRU model with GloVe embeddings\n",
    "bi_gru_history = bi_gru_model.fit(\n",
    "    X_train,\n",
    "    y_train,\n",
    "    validation_data=(X_test, y_test),\n",
    "    epochs=EPOCHS,\n",
    "    batch_size=BATCH_SIZE,\n",
    "    verbose=1,\n",
    ")\n",
    "\n",
    "# Evaluate the Bi-GRU model with GloVe embeddings\n",
    "bi_gru_test_loss, bi_gru_test_accuracy = bi_gru_model.evaluate(X_test, y_test, verbose=0)\n",
    "print(f\"Bi-GRU Test Loss: {bi_gru_test_loss:.4f}\")\n",
    "print(f\"Bi-GRU Test Accuracy: {bi_gru_test_accuracy:.4f}\")\n"
   ]
  },
  {
   "cell_type": "code",
   "execution_count": null,
   "metadata": {},
   "outputs": [],
   "source": [
    "# Pre-trained Embeddings\n",
    "# Bi-GRU with pretrained embeddings\n",
    "from keras.models import Sequential\n",
    "from keras.layers import Embedding, Bidirectional, GRU, Dense, Dropout\n",
    "\n",
    "def create_bi_gru_model():\n",
    "    \"\"\"Bidirectional GRU model\"\"\"\n",
    "    model = Sequential()\n",
    "    model.add(Embedding(vocab_size, EMBEDDING_DIM))\n",
    "    model.add(Bidirectional(GRU(64)))\n",
    "    model.add(Dense(64, activation=\"relu\"))\n",
    "    model.add(Dense(1, activation=\"sigmoid\"))\n",
    "    model.compile(optimizer=\"adam\", loss=\"binary_crossentropy\", metrics=[\"accuracy\"])\n",
    "    return model\n",
    "\n",
    "# Instantiate the model\n",
    "bi_gru_model = create_bi_gru_model()    "
   ]
  },
  {
   "cell_type": "code",
   "execution_count": null,
   "metadata": {},
   "outputs": [],
   "source": [
    "# Bi-GRU with pretrained embeddings\n",
    "\n",
    "EMBEDDING_DIM = 2\n",
    "EPOCHS = 5\n",
    "BATCH_SIZE = 1024\n",
    "\n",
    "def create_bi_gru_model():\n",
    "    \"\"\"Bidirectional GRU model\"\"\"\n",
    "    model = keras.models.Sequential(\n",
    "        [\n",
    "            keras.layers.Embedding(vocab_size, EMBEDDING_DIM),\n",
    "            keras.layers.Bidirectional(keras.layers.GRU(64)),\n",
    "            keras.layers.Dense(64, activation=\"relu\"),\n",
    "            keras.layers.Dense(1, activation=\"sigmoid\"),\n",
    "        ],\n",
    "        name=\"BiGRU\",\n",
    "    )\n",
    "\n",
    "    model.compile(optimizer=\"adam\", loss=\"binary_crossentropy\", metrics=[\"accuracy\"])\n",
    "    return model\n",
    "# Train Bi-GRU model\n",
    "bi_gru_model = create_bi_gru_model()\n",
    "bi_gru_history = bi_gru_model.fit(\n",
    "    X_train,\n",
    "    y_train,\n",
    "    validation_data=(X_test, y_test),\n",
    "    epochs=EPOCHS,\n",
    "    batch_size=BATCH_SIZE,\n",
    "    verbose=1,\n",
    ")"
   ]
  },
  {
   "cell_type": "code",
   "execution_count": null,
   "metadata": {},
   "outputs": [],
   "source": [
    "from transformers import BertTokenizer, TFBertForSequenceClassification\n",
    "\n",
    "# 1. load data ===\n",
    "# Sample placeholder — replace with your actual data\n",
    "headlines = X  # List of 28k text headlines\n",
    "labels = y     # List of 28k binary labels (0 or 1)\n",
    "\n",
    "# Convert to numpy arrays\n",
    "headlines = np.array(headlines)\n",
    "labels = np.array(labels)\n",
    "\n",
    "# 2. Train-Test Split\n",
    "X_train, X_val, y_train, y_val = train_test_split(\n",
    "    headlines, labels, test_size=0.3, random_state=42, stratify=labels\n",
    ")\n",
    "\n",
    "# 3. Tokenization\n",
    "model_name = 'bert-base-uncased'\n",
    "tokenizer = BertTokenizer.from_pretrained(model_name)\n",
    "\n",
    "# Tokenize inputs\n",
    "train_encodings = tokenizer(list(X_train), truncation=True, padding=True, return_tensors=\"tf\")\n",
    "val_encodings = tokenizer(list(X_val), truncation=True, padding=True, return_tensors=\"tf\")\n",
    "\n",
    "# 4. Convert to TensorFlow Datasets\n",
    "train_dataset = tf.data.Dataset.from_tensor_slices((\n",
    "    dict(train_encodings),\n",
    "    y_train\n",
    ")).shuffle(1000).batch(32)\n",
    "\n",
    "val_dataset = tf.data.Dataset.from_tensor_slices((\n",
    "    dict(val_encodings),\n",
    "    y_val\n",
    ")).batch(32)\n",
    "\n",
    "# 5. Load Pretrained BERT for Classification\n",
    "model = TFBertForSequenceClassification.from_pretrained(model_name, num_labels=2)\n",
    "\n",
    "# 6. Compile the Model\n",
    "optimizer = tf.keras.optimizers.Adam(learning_rate=2e-5) # Use tf.keras.optimizers.Adam\n",
    "\n",
    "loss = tf.keras.losses.SparseCategoricalCrossentropy(from_logits=True)\n",
    "metric = tf.keras.metrics.SparseCategoricalAccuracy('accuracy')\n",
    "\n",
    "model.compile(optimizer=optimizer, loss=loss, metrics=[metric])\n",
    "\n",
    "# 7. Train the Model\n",
    "early_stop = EarlyStopping(monitor=\"val_accuracy\", patience=2, restore_best_weights=True)\n",
    "\n",
    "history = model.fit(\n",
    "    train_dataset,\n",
    "    validation_data=val_dataset,\n",
    "    epochs=4,\n",
    "    callbacks=[early_stop]\n",
    ")\n",
    "\n",
    "# 8. Evaluate Model\n",
    "val_preds = model.predict(val_dataset).logits\n",
    "y_pred = np.argmax(val_preds, axis=1)\n",
    "print(\"\\nClassification Report:\\n\")\n",
    "print(classification_report(y_val, y_pred))"
   ]
  },
  {
   "cell_type": "markdown",
   "metadata": {},
   "source": [
    "# Conclusion\n",
    "\n",
    "This project shows that for short texts such as headlines, a well‑tuned TF‑IDF representation with a Logistic Regression classifier is a strong and efficient baseline. More advanced approaches — FastText embeddings, BiGRU sequence models, and fine‑tuned Transformers — provide alternative trade‑offs: better handling of rare or subword patterns, contextual understanding, and potentially higher accuracy at the cost of compute and complexity.\n",
    "\n",
    "Key takeaways:\n",
    "- Text normalization needs to be chosen carefully: aggressive stopword removal decreased accuracy in our experiments, while targeted normalization (contraction expansion, hyphen unification, zero-width space removal) helped.\n",
    "- Use TF‑IDF + LR as a fast baseline. Only add complexity when you need semantic/contextual understanding that TF‑IDF cannot capture.\n",
    "- For production: add deterministic preprocessing, model versioning, saving/loading of artifacts, unit tests on preprocessing, and a model card describing dataset provenance and limitations."
   ]
  }
 ],
 "metadata": {
  "accelerator": "GPU",
  "colab": {
   "provenance": []
  },
  "kernelspec": {
   "display_name": "base",
   "language": "python",
   "name": "python3"
  },
  "language_info": {
   "codemirror_mode": {
    "name": "ipython",
    "version": 3
   },
   "file_extension": ".py",
   "mimetype": "text/x-python",
   "name": "python",
   "nbconvert_exporter": "python",
   "pygments_lexer": "ipython3",
   "version": "3.10.9"
  }
 },
 "nbformat": 4,
 "nbformat_minor": 0
}
